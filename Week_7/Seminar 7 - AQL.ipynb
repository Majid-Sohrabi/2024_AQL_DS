{
 "cells": [
  {
   "cell_type": "markdown",
   "id": "7d5388ab",
   "metadata": {},
   "source": [
    "# Semianr 7 - Applied Quantitative Logistics\n",
    "\n",
    "## Particle Swarm Optimization (PSO) - Continuous"
   ]
  },
  {
   "cell_type": "code",
   "execution_count": null,
   "id": "81325c08",
   "metadata": {},
   "outputs": [],
   "source": [
    "import math\n",
    "import random\n",
    "import numpy as np\n",
    "import pandas as pd\n",
    "import matplotlib.pyplot as plt"
   ]
  },
  {
   "cell_type": "markdown",
   "id": "5dd0990b",
   "metadata": {},
   "source": [
    "**Problem:** Sphere\n",
    "\n",
    "$$\n",
    "\\min{z} = f_{sph}(x) = \\begin{equation*}\n",
    " \\sum_{i=1}^n {x_i}^2 \\end{equation*}\n",
    "$$\n",
    "\n",
    "$$\n",
    "x_{min} \\le x_i \\le x_{max}\n",
    "$$\n",
    "\n",
    "Optimal Solutions:\n",
    "\n",
    "$$\n",
    "\\forall i \\;\n",
    "\\left\\{\n",
    "    \\begin{array}\\\\\n",
    "        x_i^* = 0 \\\\\n",
    "        z^* = 0 \\\\\n",
    "    \\end{array}\n",
    "\\right.\n",
    "$$"
   ]
  },
  {
   "cell_type": "code",
   "execution_count": null,
   "id": "c1837788",
   "metadata": {},
   "outputs": [],
   "source": [
    "def sphere(x):\n",
    "    global NFE\n",
    "    \n",
    "    if pd.isna(NFE):\n",
    "        NEF = 0\n",
    "    NFE += 1\n",
    "    \n",
    "    z = [item**2 for item in x]\n",
    "    \n",
    "    return sum(z)"
   ]
  },
  {
   "cell_type": "markdown",
   "id": "02a1b1c0",
   "metadata": {},
   "source": [
    "### PSO Algorithm - Continuous"
   ]
  },
  {
   "cell_type": "code",
   "execution_count": null,
   "id": "e8c68675",
   "metadata": {},
   "outputs": [],
   "source": [
    "### Problem definition\n",
    "\n",
    "nPar = 20    # Number of decision variables (particles)\n",
    "varMin = -5\n",
    "varMax = 5\n",
    "\n",
    "global NFE\n",
    "NFE = 0\n",
    "\n",
    "# Store the NFE into the array\n",
    "nfe = [NFE]\n",
    "\n",
    "# PSO parameters\n",
    "swarmSize = 50\n",
    "maxIter = 300\n",
    "\n",
    "maxVelocity = (varMax-varMin)/10\n",
    "minVelocity = -maxVelocity\n",
    "\n",
    "# Definition of Constraint Coefficients\n",
    "phi1 = 2.05\n",
    "phi2 = 2.05\n",
    "phi = phi1+phi2\n",
    "chi = 2/(phi-2 + np.sqrt(phi**2 - 4*phi))\n",
    "\n",
    "w = chi\n",
    "C1 = phi1*chi\n",
    "C2 = phi2*chi\n",
    "\n",
    "Position, Costs, Velocity, LBPosiiton, LBCosts = [], [], [], [], []\n",
    "\n",
    "### Initial Swarm\n",
    "GBPosition = list(np.random.uniform(varMax, varMin, size=nPar))\n",
    "GBCost = math.inf\n",
    "\n",
    "GBCost_list = []\n",
    "\n",
    "for i in range(swarmSize):\n",
    "    Position.append(list(np.random.uniform(varMin, varMax, size=nPar)))\n",
    "    Velocity.append(list(np.zeros(nPar)))\n",
    "    Costs.append(sphere(Position[i]))\n",
    "    \n",
    "    LBPosiiton.append(Position[i])\n",
    "    LBCosts.append(Costs[i])\n",
    "    \n",
    "    if LBCosts[i] < GBCost:\n",
    "        GBPosition = LBPosiiton[i]\n",
    "        GBCost = LBCosts[i]\n",
    "\n",
    "### PSO Main Loop\n",
    "for it in range(maxIter):\n",
    "    \n",
    "    for ii in range(swarmSize):\n",
    "        \n",
    "        # Velocity Update\n",
    "        Velocity[ii] = list(w*np.array(Velocity[ii]) \\\n",
    "                           + C1*np.random.random()*(np.array(LBPosiiton[ii]) - np.array(Position[ii]))\n",
    "                           + C2*np.random.random()*(np.array(GBPosition) - np.array(Position[ii])))\n",
    "        \n",
    "        # Position Update\n",
    "        Position[ii] = list(np.array(Position[ii]) + np.array(Velocity[ii]))\\\n",
    "        \n",
    "        Costs[ii] = sphere(Position[ii])\n",
    "        \n",
    "        # Global and Local Best Update\n",
    "        if Costs[ii] < LBCosts[ii]:\n",
    "            LBPosiiton[ii] = Position[ii]\n",
    "            LBCosts[ii] = Costs[ii]\n",
    "            \n",
    "        if LBCosts[ii] < GBCost:\n",
    "            GBPosition = LBPosiiton[ii]\n",
    "            GBCost = LBCosts[ii]\n",
    "            \n",
    "    GBCost_list.append(GBCost)\n",
    "        \n",
    "    # Append NFE to array\n",
    "    nfe.append(NFE)\n",
    "        \n",
    "    print(f'Iteration {it} : NFE = {nfe[-1]}, Best Cost = {GBCost_list[it]}')"
   ]
  },
  {
   "cell_type": "code",
   "execution_count": null,
   "id": "79879d42",
   "metadata": {},
   "outputs": [],
   "source": [
    "# Plot the result\n",
    "plt.plot(GBCost_list, linewidth=3)\n",
    "plt.xlabel('NFE')\n",
    "plt.ylabel('Costs')"
   ]
  },
  {
   "cell_type": "code",
   "execution_count": null,
   "id": "581d7bfe",
   "metadata": {},
   "outputs": [],
   "source": []
  }
 ],
 "metadata": {
  "kernelspec": {
   "display_name": "Python 3 (ipykernel)",
   "language": "python",
   "name": "python3"
  },
  "language_info": {
   "codemirror_mode": {
    "name": "ipython",
    "version": 3
   },
   "file_extension": ".py",
   "mimetype": "text/x-python",
   "name": "python",
   "nbconvert_exporter": "python",
   "pygments_lexer": "ipython3",
   "version": "3.10.9"
  }
 },
 "nbformat": 4,
 "nbformat_minor": 5
}
