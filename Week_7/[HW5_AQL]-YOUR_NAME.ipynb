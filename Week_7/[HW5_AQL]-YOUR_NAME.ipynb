{
 "cells": [
  {
   "cell_type": "markdown",
   "id": "0ffa17f4",
   "metadata": {},
   "source": [
    "# HW5 - Applied Quantitative Logistics\n",
    "\n",
    "Solve TSP problem with continues GA algorithm. The solution should be generated in continues values. Use all regular Crossover and Mutation. This type of problem solving has no interfere with permutaion problems.\n",
    "\n",
    "Hint: Just before calculating the cost, you need to convert the solution into the permutation format. For example:\n",
    "\n",
    "- Solution in continues format is: [0.111, 0,854, 0,234, 0.542, 0.01]\n",
    "- The permutation format is: [2, 5, 3, 4, 1]\n",
    "\n",
    "Instruction for submission:\n",
    "\n",
    "- Please submit your solutions in (.ipynb) format to my email (msohrabi@hse.ru).\n",
    "\n",
    "- Deadline: **April 10, 2024, 11:59 pm.**\n",
    "\n",
    "- The subject of the email and file name: **[HW5_AQL]-YOUR_NAME**"
   ]
  },
  {
   "cell_type": "code",
   "execution_count": null,
   "id": "d06060ea",
   "metadata": {},
   "outputs": [],
   "source": [
    "<YOUR CODE>"
   ]
  },
  {
   "cell_type": "code",
   "execution_count": null,
   "id": "43995e79",
   "metadata": {},
   "outputs": [],
   "source": []
  }
 ],
 "metadata": {
  "kernelspec": {
   "display_name": "Python 3 (ipykernel)",
   "language": "python",
   "name": "python3"
  },
  "language_info": {
   "codemirror_mode": {
    "name": "ipython",
    "version": 3
   },
   "file_extension": ".py",
   "mimetype": "text/x-python",
   "name": "python",
   "nbconvert_exporter": "python",
   "pygments_lexer": "ipython3",
   "version": "3.10.9"
  }
 },
 "nbformat": 4,
 "nbformat_minor": 5
}
