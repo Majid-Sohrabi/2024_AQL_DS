{
 "cells": [
  {
   "cell_type": "markdown",
   "id": "c273c92a",
   "metadata": {},
   "source": [
    "# HW2 - Applied Quantitative Logistics\n",
    "\n",
    "Implement all other variants of Mutations which are explained below (for the problem in seminar 2):\n",
    "\n",
    "1) **Displacement Mutation** is already implemented during the seminar, first, an index was generated then we changed the data of that index.\n",
    "\n",
    "2) **Swap Mutation** generates an index and swaps the data of that index with the next gene.\n",
    "\n",
    "3) **Big Swap Mutation** generates two random indexes and changes the data of the two indexes.\n",
    "\n",
    "4) **Inverse Mutation** generates two random indexes and then reverses the information of genes between two indexes.\n",
    "\n",
    "5) Write a function for Mutation to do all different types of Mutation randomly during the process of the Genetic Algorithm (As we did for a crossover)\n",
    "\n",
    "6) Implement a mutation rate (impact) to specify how many genes should be changed for **Displacement Mutation** (e.g if the nVar = 10 and the mu_rate=0.2 then the number of changes for mutation should be two genes in one mutation process)\n",
    "\n",
    "Instruction for submission:\n",
    "\n",
    "- Please submit your solutions in (.ipynb) format to my email (msohrabi@hse.ru).\n",
    "\n",
    "- Deadline: **January 30, 2024, 11:59 pm.**\n",
    "\n",
    "- The subject of the email and file name: **[HW2_AQL]-YOUR_NAME**"
   ]
  },
  {
   "cell_type": "code",
   "execution_count": null,
   "id": "57398881",
   "metadata": {},
   "outputs": [],
   "source": []
  },
  {
   "cell_type": "code",
   "execution_count": null,
   "id": "54d958d5",
   "metadata": {},
   "outputs": [],
   "source": []
  }
 ],
 "metadata": {
  "kernelspec": {
   "display_name": "Python 3 (ipykernel)",
   "language": "python",
   "name": "python3"
  },
  "language_info": {
   "codemirror_mode": {
    "name": "ipython",
    "version": 3
   },
   "file_extension": ".py",
   "mimetype": "text/x-python",
   "name": "python",
   "nbconvert_exporter": "python",
   "pygments_lexer": "ipython3",
   "version": "3.10.9"
  }
 },
 "nbformat": 4,
 "nbformat_minor": 5
}
