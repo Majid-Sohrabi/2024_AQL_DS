{
 "cells": [
  {
   "cell_type": "markdown",
   "id": "66755134",
   "metadata": {},
   "source": [
    "# Semianr 2 - Applied Quantitative Logistics"
   ]
  },
  {
   "cell_type": "markdown",
   "id": "f89e3899",
   "metadata": {},
   "source": [
    "### Evolution is the product of:\n",
    "\n",
    "- Natural Selection\n",
    "- Reproduction (Desire for immortality)\n",
    "- Mutation\n",
    "- Symbiosis"
   ]
  },
  {
   "cell_type": "markdown",
   "id": "4e43a1a5",
   "metadata": {},
   "source": [
    "#### Steps of an evolutionary algorithm:\n",
    "\n",
    "- **Initializing** a set of random solutions\n",
    "- **Comparing** results, **rating** them, then **selecting** the best\n",
    "- **Combining** obtained solutions by simmulating the process, producing offspring, and combining new solutions by old solutions from the last iteration\n",
    "- **Returning** to the second step (if needed)"
   ]
  },
  {
   "cell_type": "markdown",
   "id": "af8acadf",
   "metadata": {},
   "source": [
    "### Some Terminologies:\n",
    "\n",
    "- **Optimization** (Problem type)\n",
    "- **Ojective function** (What we are going to optimize)\n",
    "    - **Minimization** (Cost function, error function)\n",
    "    - **Maximization** (Fitness function, profit function)"
   ]
  },
  {
   "cell_type": "markdown",
   "id": "b60f0911",
   "metadata": {},
   "source": [
    "## Genetic Algorithm\n",
    "\n",
    "The most well-known evolutionary algorithm (natured inspired algorithm, metaheuristic algorithm) is Genetic Algorithm (GA).\n",
    "\n",
    "It is changing continiously.\n",
    "\n",
    "#### GA Steps:\n",
    "\n",
    "- Initializing a set of random solutions - Evaluating the population\n",
    "- Select parents and combine them (cross-over) to create offspring population\n",
    "- Selecting candidate for mutation, and making mutated population\n",
    "- Combining the main population, offspring and mutated population and make a new population\n",
    "- If the termination condition is not valid, return to the second step. Otherwise, terminate.\n",
    "\n",
    "In selection, cross-over, mutation, combining all population in pool can have different senario. \n",
    "\n",
    "How to define the senario?\n",
    "\n",
    "- Depends on the type of the problem"
   ]
  },
  {
   "cell_type": "markdown",
   "id": "cdf99166",
   "metadata": {},
   "source": [
    "#### Different strategy for termination:\n",
    "\n",
    "- Defining a threshold to terminate the process\n",
    "- If the change in cost function between the current state with previous < epsilon\n",
    "- If after many iterations there was a slight change\n",
    "- Defining the maximum iteration for the process\n",
    "- Defining the time (i.e after 30 min, 1 hour, ...)\n",
    "- Reaching to the specific number of fuction evaluation (NFE)"
   ]
  },
  {
   "cell_type": "code",
   "execution_count": 1,
   "id": "ef7603b6",
   "metadata": {},
   "outputs": [],
   "source": [
    "import random\n",
    "import math\n",
    "import numpy as np\n",
    "import pandas as pd\n",
    "import matplotlib.pyplot as plt"
   ]
  },
  {
   "cell_type": "markdown",
   "id": "243bf76c",
   "metadata": {},
   "source": [
    "## Binary GA\n",
    "\n",
    "**Problem:** Min One\n",
    "$$\n",
    "\\min{z} = f(x) = \\begin{equation*}\n",
    "\\sum_{i=1}^n x_i \\end{equation*}\n",
    "$$\n",
    "\n",
    "$$\n",
    "x_i \\in \\{0, 1\\}\n",
    "$$"
   ]
  },
  {
   "cell_type": "code",
   "execution_count": 2,
   "id": "a3022968",
   "metadata": {},
   "outputs": [],
   "source": [
    "# Cost function including NFE calculation\n",
    "def MinOne(x):\n",
    "    global NFE\n",
    "    \n",
    "    if pd.isna(NFE):\n",
    "        NFE = 0\n",
    "        \n",
    "    NFE+=1\n",
    "    \n",
    "    return sum(x)"
   ]
  },
  {
   "cell_type": "code",
   "execution_count": 3,
   "id": "12608fb1",
   "metadata": {},
   "outputs": [],
   "source": [
    "# Sort the population and cost (based on the cost)\n",
    "def pop_sort(p, c):\n",
    "    li = []\n",
    "    for i in range(len(c)):\n",
    "        li.append([c[i],i])\n",
    "        \n",
    "    li.sort()\n",
    "    sort_index = []\n",
    "    \n",
    "    for x in li:\n",
    "        sort_index.append(x[1])\n",
    "    \n",
    "    positions, cost = [], []\n",
    "    for i in sort_index:\n",
    "        positions.append(p[i])\n",
    "        cost.append(c[i])\n",
    "        \n",
    "    return positions, cost"
   ]
  },
  {
   "cell_type": "code",
   "execution_count": 4,
   "id": "57e11dc1",
   "metadata": {},
   "outputs": [],
   "source": [
    "def rouletteWheelSelection(p):\n",
    "    r = random.random()\n",
    "    \n",
    "    c = np.cumsum(p)\n",
    "    \n",
    "    indexes = [\n",
    "    index for index in range(len(c))\n",
    "    if c[index] > r\n",
    "    ]\n",
    "    \n",
    "    return indexes[0]"
   ]
  },
  {
   "cell_type": "markdown",
   "id": "b484bd35",
   "metadata": {},
   "source": [
    "### CrossOver Variants"
   ]
  },
  {
   "cell_type": "code",
   "execution_count": 5,
   "id": "b7f3419b",
   "metadata": {},
   "outputs": [],
   "source": [
    "# Uniform Crossover is better than double point crossover better than single point crossover\n",
    "\n",
    "# Single point crossover\n",
    "def singlePoint_crossover(x1, x2):\n",
    "    index = int(np.random.randint(1, len(x1)-1, size=1))\n",
    "    \n",
    "    y1 = x1[:index] + x2[index:]\n",
    "    y2 = x2[:index] + x1[index:]\n",
    "    \n",
    "    return y1, y2\n",
    "\n",
    "# Double Point Crossover\n",
    "def doublePoint_crossover(x1, x2):\n",
    "    ind = random.sample(range(1, len(x1)-1), 2)\n",
    "    \n",
    "    index1 = min(ind)\n",
    "    index2 = max(ind)\n",
    "    \n",
    "    # Another way is to generate sequence from, 1 to len(x1)-1 then shuffle it\n",
    "    # Then select first two elements (it won't be the same at all) --> my_ind = list(range(1, len(x1)-1))\n",
    "    # random.shuffle(my_list)\n",
    "    y1 = x1[:index1] + x2[index1:index2] + x1[index2:]\n",
    "    y2 = x2[:index1] + x1[index1:index2] + x2[index2:]\n",
    "    \n",
    "    return y1, y2\n",
    "\n",
    "# Uniform Crossover\n",
    "def uniform_crossover(x1, x2):\n",
    "    alpha = list(np.random.randint(2, size=len(x1)))\n",
    "    \n",
    "    y1 = list(np.multiply(alpha, x1) + (1-np.array(alpha)) * np.array(x2))\n",
    "    y2 = list(np.multiply(alpha, x2) + (1-np.array(alpha)) * np.array(x1))\n",
    "    \n",
    "    return y1, y2\n",
    "\n",
    "def CrossOver(x1, x2):\n",
    "    \n",
    "    pSinglePoint = 0.1\n",
    "    pDoublePoint = 0.2\n",
    "    pUniform = 1-pSinglePoint-pDoublePoint\n",
    "    \n",
    "    METHOD = rouletteWheelSelection([pSinglePoint, pDoublePoint, pUniform])\n",
    "    \n",
    "    if METHOD == 0:\n",
    "        y1, y2 = singlePoint_crossover(x1, x2)\n",
    "    elif METHOD == 1:\n",
    "        y1, y2 = doublePoint_crossover(x1, x2)\n",
    "    elif METHOD == 2:\n",
    "        y1, y2 = uniform_crossover(x1, x2)\n",
    "    \n",
    "    return y1, y2"
   ]
  },
  {
   "cell_type": "markdown",
   "id": "c346c8e3",
   "metadata": {},
   "source": [
    "### Mutation"
   ]
  },
  {
   "cell_type": "code",
   "execution_count": 6,
   "id": "de16c95e",
   "metadata": {},
   "outputs": [],
   "source": [
    "# Displacement Mutation\n",
    "def Mutation(x):\n",
    "    index = int(np.random.randint(0, len(x), size=1))\n",
    "    \n",
    "    y = x.copy()\n",
    "    \n",
    "    y[index] = 1-x[index]\n",
    "    \n",
    "    return y"
   ]
  },
  {
   "cell_type": "markdown",
   "id": "c53ff626",
   "metadata": {
    "scrolled": true
   },
   "source": [
    "### Main Algorithm Implementation"
   ]
  },
  {
   "cell_type": "code",
   "execution_count": 7,
   "id": "8db1b1e3",
   "metadata": {},
   "outputs": [
    {
     "name": "stdout",
     "output_type": "stream",
     "text": [
      "Iteration 1 : NFE = 123, Best Cost = 14\n",
      "Iteration 2 : NFE = 186, Best Cost = 11\n",
      "Iteration 3 : NFE = 249, Best Cost = 10\n",
      "Iteration 4 : NFE = 312, Best Cost = 8\n",
      "Iteration 5 : NFE = 375, Best Cost = 8\n",
      "Iteration 6 : NFE = 438, Best Cost = 7\n",
      "Iteration 7 : NFE = 501, Best Cost = 7\n",
      "Iteration 8 : NFE = 564, Best Cost = 7\n",
      "Iteration 9 : NFE = 627, Best Cost = 4\n",
      "Iteration 10 : NFE = 690, Best Cost = 4\n",
      "Iteration 11 : NFE = 753, Best Cost = 3\n",
      "Iteration 12 : NFE = 816, Best Cost = 3\n",
      "Iteration 13 : NFE = 879, Best Cost = 1\n",
      "Iteration 14 : NFE = 942, Best Cost = 0\n",
      "Iteration 15 : NFE = 1005, Best Cost = 0\n",
      "Iteration 16 : NFE = 1068, Best Cost = 0\n",
      "Iteration 17 : NFE = 1131, Best Cost = 0\n",
      "Iteration 18 : NFE = 1194, Best Cost = 0\n",
      "Iteration 19 : NFE = 1257, Best Cost = 0\n",
      "Iteration 20 : NFE = 1320, Best Cost = 0\n",
      "Iteration 21 : NFE = 1383, Best Cost = 0\n",
      "Iteration 22 : NFE = 1446, Best Cost = 0\n",
      "Iteration 23 : NFE = 1509, Best Cost = 0\n",
      "Iteration 24 : NFE = 1572, Best Cost = 0\n",
      "Iteration 25 : NFE = 1635, Best Cost = 0\n",
      "Iteration 26 : NFE = 1698, Best Cost = 0\n",
      "Iteration 27 : NFE = 1761, Best Cost = 0\n",
      "Iteration 28 : NFE = 1824, Best Cost = 0\n",
      "Iteration 29 : NFE = 1887, Best Cost = 0\n",
      "Iteration 30 : NFE = 1950, Best Cost = 0\n",
      "Iteration 31 : NFE = 2013, Best Cost = 0\n",
      "Iteration 32 : NFE = 2076, Best Cost = 0\n",
      "Iteration 33 : NFE = 2139, Best Cost = 0\n",
      "Iteration 34 : NFE = 2202, Best Cost = 0\n",
      "Iteration 35 : NFE = 2265, Best Cost = 0\n",
      "Iteration 36 : NFE = 2328, Best Cost = 0\n",
      "Iteration 37 : NFE = 2391, Best Cost = 0\n",
      "Iteration 38 : NFE = 2454, Best Cost = 0\n",
      "Iteration 39 : NFE = 2517, Best Cost = 0\n",
      "Iteration 40 : NFE = 2580, Best Cost = 0\n",
      "Iteration 41 : NFE = 2643, Best Cost = 0\n",
      "Iteration 42 : NFE = 2706, Best Cost = 0\n",
      "Iteration 43 : NFE = 2769, Best Cost = 0\n",
      "Iteration 44 : NFE = 2832, Best Cost = 0\n",
      "Iteration 45 : NFE = 2895, Best Cost = 0\n",
      "Iteration 46 : NFE = 2958, Best Cost = 0\n",
      "Iteration 47 : NFE = 3021, Best Cost = 0\n",
      "Iteration 48 : NFE = 3084, Best Cost = 0\n",
      "Iteration 49 : NFE = 3147, Best Cost = 0\n"
     ]
    }
   ],
   "source": [
    "### Problem Parameters Definition ###\n",
    "nVar = 50       # Number of decision variables\n",
    "\n",
    "global NFE\n",
    "NFE = 0\n",
    "\n",
    "### GA Parameters ###\n",
    "maxIt = 50     # Maximum numner of iterations\n",
    "nPop = 60       # Population size \n",
    "\n",
    "pc = 0.8                   # Crossover percentage\n",
    "nc = 2*round(pc*nPop/2)    # Number of offsprings (parents)\n",
    "\n",
    "pm = 0.3                   # Mutation percentage\n",
    "nm = round(pm*nPop)        # Number of mutants2 = unifrnd(0,2 = unifrnd(0,\n",
    "\n",
    "### Initialization ###\n",
    "pop, costs = [], []\n",
    "\n",
    "for i in range(0, nPop):\n",
    "    pop.append(list(np.random.randint(2, size=nVar)))\n",
    "    costs.append(MinOne(pop[i]))\n",
    "\n",
    "# Sort the population and costs\n",
    "pop, costs = pop_sort(pop, costs)\n",
    "\n",
    "#  Store the best solution\n",
    "bestSolution = [pop[0]]\n",
    "\n",
    "# Array to hold best cost values\n",
    "bestCosts = [costs[0]]\n",
    "\n",
    "# Store the NFE into the array\n",
    "nfe = [NFE]\n",
    "\n",
    "### Main Loop ###\n",
    "for it in range(1, maxIt):\n",
    "    \n",
    "    # Crossover\n",
    "    popc, popc_cost = [], []\n",
    "    for k in range(1, int(nc/2)):\n",
    "        \n",
    "        # Select parent indices\n",
    "        rand1 = int(np.random.randint(nPop, size=1))\n",
    "        rand2 = int(np.random.randint(nPop, size=1))\n",
    "        \n",
    "        # Select parents\n",
    "        p1 = pop[rand1]\n",
    "        p2 = pop[rand2]\n",
    "        \n",
    "        # Apply crossover\n",
    "#         y1, y2 = singlePoint_crossover(p1, p2)\n",
    "#         y1, y2 = doublePoint_crossover(p1, p2)\n",
    "#         y1, y2 = uniform_crossover(p1, p2)\n",
    "\n",
    "        y1, y2 = CrossOver(p1, p2)\n",
    "        \n",
    "        # Store the offspring after crossover\n",
    "        popc.append(y1)\n",
    "        popc.append(y2)\n",
    "        \n",
    "        # Evaluate the offspring\n",
    "        popc_cost.append(MinOne(y1))\n",
    "        popc_cost.append(MinOne(y2))\n",
    "        \n",
    "    # Mutation\n",
    "    popm, popm_cost = [], []\n",
    "    for k in range(1, nm):\n",
    "        \n",
    "        # Select parent\n",
    "        rand = int(np.random.randint(nPop, size=1))\n",
    "        p = pop[rand]\n",
    "        \n",
    "        # Apply Mutation\n",
    "        popm.append(Mutation(p))\n",
    "        \n",
    "        # Evaluate the offspring\n",
    "        popm_cost.append(MinOne(popm[-1]))\n",
    "        \n",
    "    # Create merged population\n",
    "    pop = pop + popm + popc\n",
    "    costs = costs + popm_cost + popc_cost\n",
    "    \n",
    "    # sort the whole population\n",
    "    pop, costs = pop_sort(pop, costs)\n",
    "    \n",
    "    # Truncation\n",
    "    pop = pop[:nPop]\n",
    "    costs = costs[:nPop]\n",
    "    \n",
    "    # Store the best solution\n",
    "    bestSolution.append(pop[0])\n",
    "    \n",
    "    # Store the best cost\n",
    "    bestCosts.append(costs[0])\n",
    "    \n",
    "    # Append NFE to the array\n",
    "    nfe.append(NFE)\n",
    "    \n",
    "#     if bestCosts[-2] == 0:\n",
    "#         break\n",
    "        \n",
    "    print(f'Iteration {it} : NFE = {nfe[-1]}, Best Cost = {bestCosts[it]}')"
   ]
  },
  {
   "cell_type": "code",
   "execution_count": 8,
   "id": "b5dd47e2",
   "metadata": {},
   "outputs": [
    {
     "data": {
      "text/plain": [
       "Text(0, 0.5, 'Costs')"
      ]
     },
     "execution_count": 8,
     "metadata": {},
     "output_type": "execute_result"
    },
    {
     "data": {
      "image/png": "[encoded data removed]",
      "text/plain": [
       "<Figure size 640x480 with 1 Axes>"
      ]
     },
     "metadata": {},
     "output_type": "display_data"
    }
   ],
   "source": [
    "# Plot the result (based on NFE)\n",
    "plt.plot(nfe, bestCosts, linewidth = 3)\n",
    "plt.xlabel('NFE')\n",
    "plt.ylabel('Costs')"
   ]
  },
  {
   "cell_type": "code",
   "execution_count": 9,
   "id": "53e690e9",
   "metadata": {},
   "outputs": [
    {
     "data": {
      "text/plain": [
       "Text(0, 0.5, 'Best Cost')"
      ]
     },
     "execution_count": 9,
     "metadata": {},
     "output_type": "execute_result"
    },
    {
     "data": {
      "image/png": "[encoded data removed]",
      "text/plain": [
       "<Figure size 640x480 with 1 Axes>"
      ]
     },
     "metadata": {},
     "output_type": "display_data"
    }
   ],
   "source": [
    "# Plot based on number of iteration\n",
    "plt.plot(range(0, maxIt), bestCosts, linewidth=3)\n",
    "plt.xlabel('Iterations')\n",
    "plt.ylabel('Best Cost')"
   ]
  },
  {
   "cell_type": "markdown",
   "id": "55bfc05d",
   "metadata": {},
   "source": [
    "### Plot in logarithm format"
   ]
  },
  {
   "cell_type": "code",
   "execution_count": 10,
   "id": "f0ca704b",
   "metadata": {
    "scrolled": true
   },
   "outputs": [
    {
     "name": "stderr",
     "output_type": "stream",
     "text": [
      "/var/folders/25/j6_kp1v55376c5ldy5f8ns1r0000gn/T/ipykernel_1157/3378874019.py:1: RuntimeWarning: divide by zero encountered in log\n",
      "  plt.plot(nfe, np.log(bestCosts), linewidth=3)\n"
     ]
    },
    {
     "data": {
      "text/plain": [
       "Text(0, 0.5, 'Best Cost')"
      ]
     },
     "execution_count": 10,
     "metadata": {},
     "output_type": "execute_result"
    },
    {
     "data": {
      "image/png": "[encoded data removed]",
      "text/plain": [
       "<Figure size 640x480 with 1 Axes>"
      ]
     },
     "metadata": {},
     "output_type": "display_data"
    }
   ],
   "source": [
    "plt.plot(nfe, np.log(bestCosts), linewidth=3)\n",
    "plt.xlabel('NFE')\n",
    "plt.ylabel('Best Cost')"
   ]
  },
  {
   "cell_type": "markdown",
   "id": "2de1b0a1",
   "metadata": {},
   "source": [
    "## Extra Material\n",
    "\n",
    "You can find our recent paper on `Genetic Engineering Algorithm (GEA)` [here.](https://arxiv.org/abs/2309.16413)"
   ]
  }
 ],
 "metadata": {
  "kernelspec": {
   "display_name": "Python 3 (ipykernel)",
   "language": "python",
   "name": "python3"
  },
  "language_info": {
   "codemirror_mode": {
    "name": "ipython",
    "version": 3
   },
   "file_extension": ".py",
   "mimetype": "text/x-python",
   "name": "python",
   "nbconvert_exporter": "python",
   "pygments_lexer": "ipython3",
   "version": "3.10.9"
  }
 },
 "nbformat": 4,
 "nbformat_minor": 5
}
