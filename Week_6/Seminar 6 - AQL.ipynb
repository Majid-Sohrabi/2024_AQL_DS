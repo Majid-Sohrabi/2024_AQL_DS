{
 "cells": [
  {
   "cell_type": "markdown",
   "id": "7d5388ab",
   "metadata": {},
   "source": [
    "# Semianr 6 - Applied Quantitative Logistics\n",
    "\n",
    "## Particle Swarm Optimization (PSO) - Binary"
   ]
  },
  {
   "cell_type": "code",
   "execution_count": null,
   "id": "a654b6e5",
   "metadata": {},
   "outputs": [],
   "source": [
    "import math\n",
    "import numpy as np\n",
    "import random\n",
    "import pandas as pd\n",
    "import matplotlib.pyplot as plt"
   ]
  },
  {
   "cell_type": "markdown",
   "id": "8dfa00a7",
   "metadata": {},
   "source": [
    "### HubLocation Allocation"
   ]
  },
  {
   "cell_type": "code",
   "execution_count": null,
   "id": "16de3df7",
   "metadata": {},
   "outputs": [],
   "source": [
    "def hubLocation():\n",
    "    \n",
    "    # Customer information\n",
    "    xc = [94, 60, 62, 3, 23, 43, 27, 62, 97, 75, 54,\n",
    "          56, 58, 0, 62, 28, 27, 86, 7, 52, 65, 0, 32,\n",
    "          15, 3, 61, 16, 65, 63, 43, 67, 53, 98, 68,\n",
    "          34, 32, 26, 18, 33, 66]\n",
    "    \n",
    "    yc = [67, 33, 11, 2, 48, 88, 17, 71, 38, 78,\n",
    "          37, 72, 58, 12, 54, 5, 24, 76, 38, 61,\n",
    "          82, 65, 66, 55, 17, 79, 72, 14, 45, 30,\n",
    "          36, 97, 15, 52, 30, 66, 13, 42, 77, 12]\n",
    "    \n",
    "    d = [13, 44, 12, 30, 5, 44, 18, 29, 20, 6, 35,\n",
    "         16, 17, 31, 32, 9, 37, 30, 8, 21, 31, 17,\n",
    "         47, 11, 6, 14, 40, 48, 31, 16, 32, 14, 44,\n",
    "         42, 6, 26, 20, 43, 14, 20]\n",
    "    \n",
    "    N = len(xc)\n",
    "    \n",
    "    # Service center information\n",
    "    xs = [63, 91, 0, 54, 39, 55, 15, 50, 21, 92,\n",
    "          12, 81, 41, 5, 62, 75, 62, 20, 77, 57]\n",
    "    \n",
    "    ys = [37, 25, 37, 12, 43, 57, 98, 2, 85, 87,\n",
    "          0, 75, 30, 30, 85, 14, 65, 78, 95, 36]\n",
    "    \n",
    "    M = len(xs)\n",
    "    \n",
    "    # calculate the distance\n",
    "    D = np.zeros([N, M])\n",
    "    \n",
    "    for i in range(N):\n",
    "        for j in range(M):\n",
    "            D[i][j] = abs(xc[i]-xs[j]) + abs(yc[i]-ys[j])\n",
    "    \n",
    "    model = {'N': N,\n",
    "             'M': M,\n",
    "             'xc': xc,\n",
    "             'yc': yc,\n",
    "             'xs': xs,\n",
    "             'ys': ys,\n",
    "             'd': d,\n",
    "             'D': D}\n",
    "    \n",
    "    return model"
   ]
  },
  {
   "cell_type": "markdown",
   "id": "4636c7c9",
   "metadata": {},
   "source": [
    "### Create Random Solution"
   ]
  },
  {
   "cell_type": "code",
   "execution_count": null,
   "id": "c7addcdd",
   "metadata": {},
   "outputs": [],
   "source": [
    "def createRandomSolution(model):\n",
    "    M = model['M']\n",
    "    f = list(np.random.randint(0, 2, M))\n",
    "    \n",
    "    return f"
   ]
  },
  {
   "cell_type": "markdown",
   "id": "fcef134e",
   "metadata": {},
   "source": [
    "### Cost Function"
   ]
  },
  {
   "cell_type": "code",
   "execution_count": null,
   "id": "966d50c4",
   "metadata": {},
   "outputs": [],
   "source": [
    "def myCost(f, model):\n",
    "    \n",
    "    global NFE\n",
    "    \n",
    "    if pd.isna(NFE):\n",
    "        NFE = 0\n",
    "\n",
    "    NFE += 1\n",
    "    \n",
    "    # If no center is activated\n",
    "    # The cost of the system is inf\n",
    "    if (np.all(np.array(f) == 0)):\n",
    "        z = math.inf\n",
    "        return z\n",
    "\n",
    "    N = model['N']\n",
    "    M = model['M']\n",
    "    D = model['D']\n",
    "    \n",
    "    D_min = np.zeros(N)\n",
    "    \n",
    "    for i in range(N):\n",
    "        D_temp = []\n",
    "        for j in range(M):\n",
    "            if f[j] == 1:\n",
    "                D_temp.append(D[i][j])\n",
    "                \n",
    "        D_min[i] = min(D_temp)\n",
    "        \n",
    "    z = sum(np.array(model['d']) * np.array(D_min))\n",
    "    \n",
    "    return z"
   ]
  },
  {
   "cell_type": "markdown",
   "id": "fdd270d3",
   "metadata": {},
   "source": [
    "### Sort Population"
   ]
  },
  {
   "cell_type": "code",
   "execution_count": null,
   "id": "13178517",
   "metadata": {},
   "outputs": [],
   "source": [
    "# Sort the population and cost (based on the cost)\n",
    "def pop_sort(p, c):\n",
    "    li = []\n",
    "    for i in range(len(c)):\n",
    "        li.append([c[i],i])\n",
    "        \n",
    "    li.sort()\n",
    "    sort_index = []\n",
    "    \n",
    "    for x in li:\n",
    "        sort_index.append(x[1])\n",
    "    \n",
    "    positions, cost = [], []\n",
    "    for i in sort_index:\n",
    "        positions.append(p[i])\n",
    "        cost.append(c[i])\n",
    "        \n",
    "    return positions, cost"
   ]
  },
  {
   "cell_type": "markdown",
   "id": "b60cd9e3",
   "metadata": {},
   "source": [
    "### PSO Algorithm - Binary"
   ]
  },
  {
   "cell_type": "code",
   "execution_count": null,
   "id": "f3a37751",
   "metadata": {
    "scrolled": true
   },
   "outputs": [],
   "source": [
    "### Problem Definition\n",
    "model = hubLocation()\n",
    "\n",
    "nPar = model['M']\n",
    "\n",
    "global NFE\n",
    "NFE = 0\n",
    "\n",
    "nfe = []\n",
    "\n",
    "# PSO parameters\n",
    "swarmSize = 40\n",
    "maxIter = 100\n",
    "\n",
    "C1 = 2\n",
    "C2 = 4-C1\n",
    "\n",
    "Position, Costs, Velocity, LBPosition, LBCost = [], [], [], [], [] \n",
    "\n",
    "# Initialize swarm\n",
    "\n",
    "GBPosition = createRandomSolution(model)\n",
    "GBCost = math.inf\n",
    "\n",
    "GBCost_list = []\n",
    "\n",
    "for i in range(swarmSize):\n",
    "    Position.append(createRandomSolution(model))\n",
    "    Velocity.append(list(np.random.random_sample(nPar)))\n",
    "    Costs.append(myCost(Position[i], model))\n",
    "    \n",
    "    LBPosition.append(Position[i])\n",
    "    LBCost.append(Costs[i])\n",
    "    \n",
    "    if LBCost[i] < GBCost:\n",
    "        GBPosition = LBPosition[i]\n",
    "        GBCost = LBCost[i]\n",
    "\n",
    "# Main body for PSO\n",
    "for it in range(maxIter):\n",
    "    \n",
    "    for ii in range(swarmSize):\n",
    "        # Velocity Update\n",
    "        Velocity[ii] = list(C1*np.random.rand()*(np.array(LBPosition[ii])-np.array(Position[ii])) \\\n",
    "                           + C2*np.random.rand()*(np.array(GBPosition)-np.array(Position[ii])))\n",
    "        \n",
    "        # Position Update\n",
    "        SigV = 1/(1+np.exp(-np.array(Velocity[ii])))\n",
    "        my_rand = np.random.random_sample(nPar)\n",
    "        Position[ii] = [int(SigV[k] > my_rand[k]) for k in range(len(SigV))]\n",
    "        Costs[ii] = myCost(Position[ii], model)\n",
    "    \n",
    "        # Global and Local Update\n",
    "        if Costs[ii] < LBCost[ii]:\n",
    "            LBPosition[ii] = Position[ii]\n",
    "            LBCost[ii] = Costs[ii]\n",
    "        \n",
    "        if LBCost[ii] < GBCost:\n",
    "            GBPosition = LBPosition[ii]\n",
    "            GBCost = LBCost[ii]\n",
    "            \n",
    "    \n",
    "    GBCost_list.append(GBCost)\n",
    "    \n",
    "    # Append NFE to the nfe list\n",
    "    nfe.append(NFE)\n",
    "    \n",
    "    print(f'Iteration {it} : NFE = {nfe[-1]}, Best Cost = {GBCost_list[it]}')"
   ]
  },
  {
   "cell_type": "code",
   "execution_count": null,
   "id": "95b07ab2",
   "metadata": {},
   "outputs": [],
   "source": [
    "# plot the result\n",
    "plt.plot(GBCost_list, linewidth=3)\n",
    "plt.xlabel('Iteration')\n",
    "plt.ylabel('Costs')"
   ]
  },
  {
   "cell_type": "code",
   "execution_count": null,
   "id": "c871ca3d",
   "metadata": {},
   "outputs": [],
   "source": []
  }
 ],
 "metadata": {
  "kernelspec": {
   "display_name": "Python 3 (ipykernel)",
   "language": "python",
   "name": "python3"
  },
  "language_info": {
   "codemirror_mode": {
    "name": "ipython",
    "version": 3
   },
   "file_extension": ".py",
   "mimetype": "text/x-python",
   "name": "python",
   "nbconvert_exporter": "python",
   "pygments_lexer": "ipython3",
   "version": "3.10.9"
  }
 },
 "nbformat": 4,
 "nbformat_minor": 5
}
