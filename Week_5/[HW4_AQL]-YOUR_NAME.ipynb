{
 "cells": [
  {
   "cell_type": "markdown",
   "id": "0ffa17f4",
   "metadata": {},
   "source": [
    "# HW4 - Applied Quantitative Logistics\n",
    "\n",
    "   1) Implement crossover PMX for Genetic Algorithm which is presented in the paper [Genetic Algorithm Solution of the TSP Avoiding Special Crossover and Mutation](https://user.ceng.metu.edu.tr/~ucoluk/research/publications/tspnew.pdf)\n",
    "\n",
    "   2) Add the PMX to GA and again compare the result of SA and GA on the same TSP problem.\n",
    "   \n",
    "   3) Try to organize the code by making modules (.py) in python for different functions, (i.e. crossover module, mutation module, ...), then in the main notebook just import those modules and use your implemented functions from your module.\n",
    "\n",
    "Instruction for submission:\n",
    "\n",
    "- Please submit your solutions in (.ipynb) format to my email (msohrabi@hse.ru).\n",
    "\n",
    "- Deadline: **March 17, 2023, 11:59 pm.**\n",
    "\n",
    "- The subject of the email and file name: **[HW4_AQL]-YOUR_NAME**"
   ]
  },
  {
   "cell_type": "code",
   "execution_count": null,
   "id": "d06060ea",
   "metadata": {},
   "outputs": [],
   "source": [
    "<YOUR CODE>"
   ]
  },
  {
   "cell_type": "code",
   "execution_count": null,
   "id": "43995e79",
   "metadata": {},
   "outputs": [],
   "source": []
  }
 ],
 "metadata": {
  "kernelspec": {
   "display_name": "Python 3 (ipykernel)",
   "language": "python",
   "name": "python3"
  },
  "language_info": {
   "codemirror_mode": {
    "name": "ipython",
    "version": 3
   },
   "file_extension": ".py",
   "mimetype": "text/x-python",
   "name": "python",
   "nbconvert_exporter": "python",
   "pygments_lexer": "ipython3",
   "version": "3.10.9"
  }
 },
 "nbformat": 4,
 "nbformat_minor": 5
}
