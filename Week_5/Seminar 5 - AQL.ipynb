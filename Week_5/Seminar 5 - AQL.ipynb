{
 "cells": [
  {
   "cell_type": "markdown",
   "id": "7d5388ab",
   "metadata": {},
   "source": [
    "# Semianr 5 - Applied Quantitative Logistics"
   ]
  },
  {
   "cell_type": "code",
   "execution_count": 29,
   "id": "81325c08",
   "metadata": {},
   "outputs": [],
   "source": [
    "import math\n",
    "import random\n",
    "import matplotlib.pyplot as plt\n",
    "import numpy as np"
   ]
  },
  {
   "cell_type": "markdown",
   "id": "15fe3b2b",
   "metadata": {},
   "source": [
    "## Hub Location Allocation"
   ]
  },
  {
   "cell_type": "code",
   "execution_count": 31,
   "id": "f547527b",
   "metadata": {},
   "outputs": [
    {
     "name": "stdout",
     "output_type": "stream",
     "text": [
      "[94, 60, 62, 3, 23, 43, 27, 62, 97, 75, 54, 56, 58, 0, 62, 28, 27, 86, 7, 52, 65, 0, 32, 15, 3, 61, 16, 65, 63, 43, 67, 53, 98, 68, 34, 32, 26, 18, 33, 66]\n"
     ]
    }
   ],
   "source": [
    "N = 40    # Number of customers\n",
    "M = 20    # Number of centers\n",
    "\n",
    "# Generate the x coordinate of customer\n",
    "xc = list(np.random.randint(0, 100, N))\n",
    "print(xc)"
   ]
  },
  {
   "cell_type": "code",
   "execution_count": 32,
   "id": "bf4e30c6",
   "metadata": {},
   "outputs": [
    {
     "name": "stdout",
     "output_type": "stream",
     "text": [
      "[67, 33, 11, 2, 48, 88, 17, 71, 38, 78, 37, 72, 58, 12, 54, 5, 24, 76, 38, 61, 82, 65, 66, 55, 17, 79, 72, 14, 45, 30, 36, 97, 15, 52, 30, 66, 13, 42, 77, 12]\n"
     ]
    }
   ],
   "source": [
    "# Generate the y coordinate of customer\n",
    "yc = list(np.random.randint(0, 100, N))\n",
    "print(yc)"
   ]
  },
  {
   "cell_type": "code",
   "execution_count": 34,
   "id": "9400c319",
   "metadata": {},
   "outputs": [
    {
     "name": "stdout",
     "output_type": "stream",
     "text": [
      "[13, 44, 12, 30, 5, 44, 18, 29, 20, 6, 35, 16, 17, 31, 32, 9, 37, 30, 8, 21, 31, 17, 47, 11, 6, 14, 40, 48, 31, 16, 32, 14, 44, 42, 6, 26, 20, 43, 14, 20]\n"
     ]
    }
   ],
   "source": [
    "# Generate demand for each customer\n",
    "d = list(np.random.randint(5, 50, N))\n",
    "print(d)"
   ]
  },
  {
   "cell_type": "code",
   "execution_count": 37,
   "id": "a89cfed6",
   "metadata": {},
   "outputs": [
    {
     "name": "stdout",
     "output_type": "stream",
     "text": [
      "[63, 91, 0, 54, 39, 55, 15, 50, 21, 92, 12, 81, 41, 5, 62, 75, 62, 20, 77, 57]\n"
     ]
    }
   ],
   "source": [
    "# Generate the x coordinate of centers\n",
    "xs = list(np.random.randint(0, 99, M))\n",
    "print(xs)"
   ]
  },
  {
   "cell_type": "code",
   "execution_count": 38,
   "id": "d94dfe30",
   "metadata": {},
   "outputs": [
    {
     "name": "stdout",
     "output_type": "stream",
     "text": [
      "[37, 25, 37, 12, 43, 57, 98, 2, 85, 87, 0, 75, 30, 30, 85, 14, 65, 78, 95, 36]\n"
     ]
    }
   ],
   "source": [
    "# Generate the y coordinate of centers\n",
    "ys = list(np.random.randint(0, 99, M))\n",
    "print(ys)"
   ]
  },
  {
   "cell_type": "code",
   "execution_count": null,
   "id": "c3bb1277",
   "metadata": {},
   "outputs": [],
   "source": [
    "def hubLocation():\n",
    "    \n",
    "    # Customer information\n",
    "    xc = [94, 60, 62, 3, 23, 43, 27, 62, 97, 75, 54,\n",
    "          56, 58, 0, 62, 28, 27, 86, 7, 52, 65, 0, 32,\n",
    "          15, 3, 61, 16, 65, 63, 43, 67, 53, 98, 68,\n",
    "          34, 32, 26, 18, 33, 66]\n",
    "    \n",
    "    yc = [67, 33, 11, 2, 48, 88, 17, 71, 38, 78,\n",
    "          37, 72, 58, 12, 54, 5, 24, 76, 38, 61,\n",
    "          82, 65, 66, 55, 17, 79, 72, 14, 45, 30,\n",
    "          36, 97, 15, 52, 30, 66, 13, 42, 77, 12]\n",
    "    \n",
    "    d = [13, 44, 12, 30, 5, 44, 18, 29, 20, 6, 35,\n",
    "         16, 17, 31, 32, 9, 37, 30, 8, 21, 31, 17,\n",
    "         47, 11, 6, 14, 40, 48, 31, 16, 32, 14, 44,\n",
    "         42, 6, 26, 20, 43, 14, 20]\n",
    "    \n",
    "    N = len(xc)\n",
    "    \n",
    "    # Service center information\n",
    "    xs = [63, 91, 0, 54, 39, 55, 15, 50, 21, 92,\n",
    "          12, 81, 41, 5, 62, 75, 62, 20, 77, 57]\n",
    "    \n",
    "    ys = [37, 25, 37, 12, 43, 57, 98, 2, 85, 87,\n",
    "          0, 75, 30, 30, 85, 14, 65, 78, 95, 36]\n",
    "    \n",
    "    M = len(xs)\n",
    "    \n",
    "    # calculate the distance\n",
    "    D = np.zeros([N, M])\n",
    "    \n",
    "    for i in range(N):\n",
    "        for j in range(M):\n",
    "            D[i][j] = math.sqrt(abs((xc[i]-xs[j])**2 + (yc[i]-y[j])**2))\n",
    "    \n",
    "    model = {\n",
    "        \"N\" : N,\n",
    "        \"M\" : M,\n",
    "        \"xc\" : xc,\n",
    "        \"yc\" : yc,\n",
    "        \"d\" : d,\n",
    "        \"xs\" : xs,\n",
    "        \"ys\" : ys,\n",
    "        \"D\" : D\n",
    "    }\n",
    "    return model"
   ]
  },
  {
   "cell_type": "code",
   "execution_count": null,
   "id": "2e38c383",
   "metadata": {},
   "outputs": [],
   "source": [
    "model = hubLocation()\n",
    "model['D'].shape"
   ]
  },
  {
   "cell_type": "code",
   "execution_count": null,
   "id": "bbb7feff",
   "metadata": {},
   "outputs": [],
   "source": [
    "model['ys'][4]"
   ]
  },
  {
   "cell_type": "markdown",
   "id": "7a7d9424",
   "metadata": {},
   "source": [
    "### Create Random Solution"
   ]
  },
  {
   "cell_type": "code",
   "execution_count": 55,
   "id": "994cec24",
   "metadata": {},
   "outputs": [],
   "source": [
    "def createRandomSolution(model):\n",
    "    M = model['M']\n",
    "    f = list(np.random.randint(0, 2, M))\n",
    "    \n",
    "    return f"
   ]
  },
  {
   "cell_type": "code",
   "execution_count": 58,
   "id": "b4f4745c",
   "metadata": {},
   "outputs": [
    {
     "data": {
      "text/plain": [
       "[1, 0, 0, 1, 1, 0, 0, 1, 1, 0, 0, 1, 0, 0, 1, 0, 1, 1, 0, 0]"
      ]
     },
     "execution_count": 58,
     "metadata": {},
     "output_type": "execute_result"
    }
   ],
   "source": [
    "createRandomSolution(model)"
   ]
  },
  {
   "cell_type": "markdown",
   "id": "994d5081",
   "metadata": {},
   "source": [
    "### Cost Function"
   ]
  },
  {
   "cell_type": "code",
   "execution_count": null,
   "id": "55e3c463",
   "metadata": {},
   "outputs": [],
   "source": [
    "def myCost(f, model):\n",
    "    \n",
    "    global NFE\n",
    "    \n",
    "    if pd.isna(NFE):\n",
    "        NFE = 0\n",
    "\n",
    "    NFE += 1\n",
    "    \n",
    "    # If no center is activated\n",
    "    # The cost of the system is inf\n",
    "    if (np.all(np.array(f) == 0)):\n",
    "        z = math.inf\n",
    "        return z\n",
    "\n",
    "    N = model['N']\n",
    "    M = model['M']\n",
    "    D = model['D']\n",
    "    \n",
    "    D_min = np.zeros(N)\n",
    "    \n",
    "    for i in range(N):\n",
    "        D_temp = []\n",
    "        for j in range(M):\n",
    "            if f[j] == 1:\n",
    "                D_temp.append(D[i][j])\n",
    "                \n",
    "        D_min[i] = min(D_temp)\n",
    "        \n",
    "    z = sum(np.array(model['d']) * np.array(D_min))\n",
    "    \n",
    "    return z"
   ]
  },
  {
   "cell_type": "code",
   "execution_count": null,
   "id": "2405af90",
   "metadata": {},
   "outputs": [],
   "source": []
  },
  {
   "cell_type": "code",
   "execution_count": null,
   "id": "3adffd00",
   "metadata": {},
   "outputs": [],
   "source": []
  },
  {
   "cell_type": "code",
   "execution_count": null,
   "id": "4a264757",
   "metadata": {},
   "outputs": [],
   "source": []
  },
  {
   "cell_type": "markdown",
   "id": "d51b0578",
   "metadata": {},
   "source": [
    "### Sorting Population"
   ]
  },
  {
   "cell_type": "code",
   "execution_count": null,
   "id": "2aa626fd",
   "metadata": {},
   "outputs": [],
   "source": []
  },
  {
   "cell_type": "code",
   "execution_count": null,
   "id": "da586969",
   "metadata": {},
   "outputs": [],
   "source": []
  },
  {
   "cell_type": "code",
   "execution_count": null,
   "id": "12b0edfb",
   "metadata": {},
   "outputs": [],
   "source": []
  },
  {
   "cell_type": "code",
   "execution_count": null,
   "id": "1bf3ce88",
   "metadata": {},
   "outputs": [],
   "source": []
  },
  {
   "cell_type": "markdown",
   "id": "d71ac517",
   "metadata": {},
   "source": [
    "### Roullete Wheel Selection"
   ]
  },
  {
   "cell_type": "code",
   "execution_count": null,
   "id": "9d602010",
   "metadata": {},
   "outputs": [],
   "source": []
  },
  {
   "cell_type": "code",
   "execution_count": null,
   "id": "16cae986",
   "metadata": {},
   "outputs": [],
   "source": []
  },
  {
   "cell_type": "code",
   "execution_count": null,
   "id": "e99c3006",
   "metadata": {},
   "outputs": [],
   "source": []
  },
  {
   "cell_type": "code",
   "execution_count": null,
   "id": "814c80b2",
   "metadata": {},
   "outputs": [],
   "source": []
  },
  {
   "cell_type": "markdown",
   "id": "8d892eff",
   "metadata": {},
   "source": [
    "### Crossover"
   ]
  },
  {
   "cell_type": "code",
   "execution_count": null,
   "id": "d8db12fb",
   "metadata": {},
   "outputs": [],
   "source": []
  },
  {
   "cell_type": "code",
   "execution_count": null,
   "id": "19e5eb44",
   "metadata": {},
   "outputs": [],
   "source": []
  },
  {
   "cell_type": "code",
   "execution_count": null,
   "id": "cede0543",
   "metadata": {},
   "outputs": [],
   "source": []
  },
  {
   "cell_type": "code",
   "execution_count": null,
   "id": "29f5509b",
   "metadata": {},
   "outputs": [],
   "source": []
  },
  {
   "cell_type": "markdown",
   "id": "cb76b70d",
   "metadata": {},
   "source": [
    "### Mutation"
   ]
  },
  {
   "cell_type": "code",
   "execution_count": null,
   "id": "3b995db5",
   "metadata": {},
   "outputs": [],
   "source": []
  },
  {
   "cell_type": "code",
   "execution_count": null,
   "id": "4f086301",
   "metadata": {},
   "outputs": [],
   "source": []
  },
  {
   "cell_type": "code",
   "execution_count": null,
   "id": "cbd67520",
   "metadata": {},
   "outputs": [],
   "source": []
  },
  {
   "cell_type": "code",
   "execution_count": null,
   "id": "c8dd348e",
   "metadata": {},
   "outputs": [],
   "source": []
  },
  {
   "cell_type": "markdown",
   "id": "5fe59522",
   "metadata": {},
   "source": [
    "### GA Algorithm"
   ]
  },
  {
   "cell_type": "code",
   "execution_count": null,
   "id": "7c6f220a",
   "metadata": {},
   "outputs": [],
   "source": []
  },
  {
   "cell_type": "code",
   "execution_count": null,
   "id": "80329e42",
   "metadata": {},
   "outputs": [],
   "source": []
  },
  {
   "cell_type": "code",
   "execution_count": null,
   "id": "6171297d",
   "metadata": {},
   "outputs": [],
   "source": []
  },
  {
   "cell_type": "code",
   "execution_count": null,
   "id": "4abd8eb8",
   "metadata": {},
   "outputs": [],
   "source": []
  },
  {
   "cell_type": "markdown",
   "id": "727b1498",
   "metadata": {},
   "source": [
    "### Results"
   ]
  },
  {
   "cell_type": "code",
   "execution_count": null,
   "id": "160002d1",
   "metadata": {},
   "outputs": [],
   "source": [
    "# Plot the result\n",
    "plt.plot(bestCosts, linewidth = 3)\n",
    "plt.xlabel('NFE')\n",
    "plt.ylabel('Costs')"
   ]
  },
  {
   "cell_type": "code",
   "execution_count": null,
   "id": "6d60f431",
   "metadata": {},
   "outputs": [],
   "source": []
  }
 ],
 "metadata": {
  "kernelspec": {
   "display_name": "Python 3 (ipykernel)",
   "language": "python",
   "name": "python3"
  },
  "language_info": {
   "codemirror_mode": {
    "name": "ipython",
    "version": 3
   },
   "file_extension": ".py",
   "mimetype": "text/x-python",
   "name": "python",
   "nbconvert_exporter": "python",
   "pygments_lexer": "ipython3",
   "version": "3.10.9"
  }
 },
 "nbformat": 4,
 "nbformat_minor": 5
}
