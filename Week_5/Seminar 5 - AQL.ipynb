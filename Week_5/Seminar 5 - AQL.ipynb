{
 "cells": [
  {
   "cell_type": "markdown",
   "id": "7d5388ab",
   "metadata": {},
   "source": [
    "# Semianr 5 - Applied Quantitative Logistics"
   ]
  },
  {
   "cell_type": "code",
   "execution_count": null,
   "id": "81325c08",
   "metadata": {},
   "outputs": [],
   "source": [
    "import math\n",
    "import random\n",
    "import matplotlib.pyplot as plt\n",
    "import numpy as np\n",
    "import pandas as pd"
   ]
  },
  {
   "cell_type": "markdown",
   "id": "15fe3b2b",
   "metadata": {},
   "source": [
    "## Hub Location Allocation"
   ]
  },
  {
   "cell_type": "code",
   "execution_count": null,
   "id": "f547527b",
   "metadata": {},
   "outputs": [],
   "source": [
    "N = 40    # Number of customers\n",
    "M = 20    # Number of centers\n",
    "\n",
    "# Generate the x coordinate of customer\n",
    "xc = list(np.random.randint(0, 100, N))\n",
    "print(xc)"
   ]
  },
  {
   "cell_type": "code",
   "execution_count": null,
   "id": "bf4e30c6",
   "metadata": {},
   "outputs": [],
   "source": [
    "# Generate the y coordinate of customer\n",
    "yc = list(np.random.randint(0, 100, N))\n",
    "print(yc)"
   ]
  },
  {
   "cell_type": "code",
   "execution_count": null,
   "id": "9400c319",
   "metadata": {},
   "outputs": [],
   "source": [
    "# Generate demand for each customer\n",
    "d = list(np.random.randint(5, 50, N))\n",
    "print(d)"
   ]
  },
  {
   "cell_type": "code",
   "execution_count": null,
   "id": "ea5fe113",
   "metadata": {},
   "outputs": [],
   "source": [
    "# Generate the x coordinate of centers\n",
    "xs = list(np.random.randint(0, 99, M))\n",
    "print(xs)"
   ]
  },
  {
   "cell_type": "code",
   "execution_count": null,
   "id": "dfbed388",
   "metadata": {},
   "outputs": [],
   "source": [
    "# Generate the y coordinate of centers\n",
    "ys = list(np.random.randint(0, 99, M))\n",
    "print(ys)"
   ]
  },
  {
   "cell_type": "code",
   "execution_count": null,
   "id": "1234d028",
   "metadata": {},
   "outputs": [],
   "source": [
    "def hubLocation():\n",
    "    \n",
    "    # Customer information\n",
    "    xc = [94, 60, 62, 3, 23, 43, 27, 62, 97, 75, 54,\n",
    "          56, 58, 0, 62, 28, 27, 86, 7, 52, 65, 0, 32,\n",
    "          15, 3, 61, 16, 65, 63, 43, 67, 53, 98, 68,\n",
    "          34, 32, 26, 18, 33, 66]\n",
    "    \n",
    "    yc = [67, 33, 11, 2, 48, 88, 17, 71, 38, 78,\n",
    "          37, 72, 58, 12, 54, 5, 24, 76, 38, 61,\n",
    "          82, 65, 66, 55, 17, 79, 72, 14, 45, 30,\n",
    "          36, 97, 15, 52, 30, 66, 13, 42, 77, 12]\n",
    "    \n",
    "    d = [13, 44, 12, 30, 5, 44, 18, 29, 20, 6, 35,\n",
    "         16, 17, 31, 32, 9, 37, 30, 8, 21, 31, 17,\n",
    "         47, 11, 6, 14, 40, 48, 31, 16, 32, 14, 44,\n",
    "         42, 6, 26, 20, 43, 14, 20]\n",
    "    \n",
    "    N = len(xc)\n",
    "    \n",
    "    # Service center information\n",
    "    xs = [63, 91, 0, 54, 39, 55, 15, 50, 21, 92,\n",
    "          12, 81, 41, 5, 62, 75, 62, 20, 77, 57]\n",
    "    \n",
    "    ys = [37, 25, 37, 12, 43, 57, 98, 2, 85, 87,\n",
    "          0, 75, 30, 30, 85, 14, 65, 78, 95, 36]\n",
    "    \n",
    "    M = len(xs)\n",
    "    \n",
    "    # calculate the distance\n",
    "    D = np.zeros([N, M])\n",
    "    \n",
    "    for i in range(N):\n",
    "        for j in range(M):\n",
    "            D[i][j] = abs(xc[i]-xs[j]) + abs(yc[i]-ys[j])\n",
    "    \n",
    "    model = {'N': N,\n",
    "             'M': M,\n",
    "             'xc': xc,\n",
    "             'yc': yc,\n",
    "             'xs': xs,\n",
    "             'ys': ys,\n",
    "             'd': d,\n",
    "             'D': D}\n",
    "    \n",
    "    return model"
   ]
  },
  {
   "cell_type": "code",
   "execution_count": null,
   "id": "0d3f5781",
   "metadata": {},
   "outputs": [],
   "source": [
    "model = hubLocation()\n",
    "model['D'].shape"
   ]
  },
  {
   "cell_type": "code",
   "execution_count": null,
   "id": "c642be0e",
   "metadata": {},
   "outputs": [],
   "source": [
    "model['ys'][4]"
   ]
  },
  {
   "cell_type": "markdown",
   "id": "7a7d9424",
   "metadata": {},
   "source": [
    "### Create Random Solution"
   ]
  },
  {
   "cell_type": "code",
   "execution_count": null,
   "id": "f052f6da",
   "metadata": {},
   "outputs": [],
   "source": [
    "def createRandomSolution(model):\n",
    "    M = model['M']\n",
    "    f = list(np.random.randint(0, 2, M))\n",
    "    \n",
    "    return f"
   ]
  },
  {
   "cell_type": "code",
   "execution_count": null,
   "id": "0e05d448",
   "metadata": {},
   "outputs": [],
   "source": [
    "createRandomSolution(model)"
   ]
  },
  {
   "cell_type": "markdown",
   "id": "994d5081",
   "metadata": {},
   "source": [
    "### Cost Function"
   ]
  },
  {
   "cell_type": "code",
   "execution_count": null,
   "id": "7558ce2e",
   "metadata": {},
   "outputs": [],
   "source": [
    "def myCost(f, model):\n",
    "    \n",
    "    global NFE\n",
    "    \n",
    "    if pd.isna(NFE):\n",
    "        NFE = 0\n",
    "\n",
    "    NFE += 1\n",
    "    \n",
    "    # If no center is activated\n",
    "    # The cost of the system is inf\n",
    "    if (np.all(np.array(f) == 0)):\n",
    "        z = math.inf\n",
    "        return z\n",
    "\n",
    "    N = model['N']\n",
    "    M = model['M']\n",
    "    D = model['D']\n",
    "    \n",
    "    D_min = np.zeros(N)\n",
    "    \n",
    "    for i in range(N):\n",
    "        D_temp = []\n",
    "        for j in range(M):\n",
    "            if f[j] == 1:\n",
    "                D_temp.append(D[i][j])\n",
    "                \n",
    "        D_min[i] = min(D_temp)\n",
    "        \n",
    "    z = sum(np.array(model['d']) * np.array(D_min))\n",
    "    \n",
    "    return z"
   ]
  },
  {
   "cell_type": "markdown",
   "id": "d51b0578",
   "metadata": {},
   "source": [
    "### Sorting Population"
   ]
  },
  {
   "cell_type": "code",
   "execution_count": null,
   "id": "20056cee",
   "metadata": {},
   "outputs": [],
   "source": [
    "# Sort the population and cost (based on the cost)\n",
    "def pop_sort(p, c):\n",
    "    li = []\n",
    "    for i in range(len(c)):\n",
    "        li.append([c[i],i])\n",
    "        \n",
    "    li.sort()\n",
    "    sort_index = []\n",
    "    \n",
    "    for x in li:\n",
    "        sort_index.append(x[1])\n",
    "    \n",
    "    positions, cost = [], []\n",
    "    for i in sort_index:\n",
    "        positions.append(p[i])\n",
    "        cost.append(c[i])\n",
    "        \n",
    "    return positions, cost"
   ]
  },
  {
   "cell_type": "markdown",
   "id": "d71ac517",
   "metadata": {},
   "source": [
    "### Roullete Wheel Selection"
   ]
  },
  {
   "cell_type": "code",
   "execution_count": null,
   "id": "9d602010",
   "metadata": {},
   "outputs": [],
   "source": [
    "def rouletteWheelSelection(p):\n",
    "    r = random.random()\n",
    "    \n",
    "    c = np.cumsum(p)\n",
    "    \n",
    "    indexes = [\n",
    "    index for index in range(len(c))\n",
    "    if c[index] > r\n",
    "    ]\n",
    "    \n",
    "    return indexes[0]"
   ]
  },
  {
   "cell_type": "markdown",
   "id": "8d892eff",
   "metadata": {},
   "source": [
    "### Crossover"
   ]
  },
  {
   "cell_type": "code",
   "execution_count": null,
   "id": "57ca5817",
   "metadata": {},
   "outputs": [],
   "source": [
    "# Uniform Crossover is better than double point crossover better than single point crossover\n",
    "\n",
    "# Single point crossover\n",
    "def singlePoint_crossover(x1, x2):\n",
    "    index = int(np.random.randint(1, len(x1)-1, size=1))\n",
    "    \n",
    "    y1 = x1[:index] + x2[index:]\n",
    "    y2 = x2[:index] + x1[index:]\n",
    "    \n",
    "    return y1, y2\n",
    "\n",
    "# Double Point Crossover\n",
    "def doublePoint_crossover(x1, x2):\n",
    "    ind = random.sample(range(1, len(x1)-1), 2)\n",
    "    \n",
    "    index1 = min(ind)\n",
    "    index2 = max(ind)\n",
    "    \n",
    "    # Another way is to generate sequence from, 1 to len(x1)-1 then shuffle it\n",
    "    # Then select first two elements \n",
    "    # (it won't be the same at all) --> my_ind = list(range(1, len(x1)-1))\n",
    "    # random.shuffle(my_list)\n",
    "    y1 = x1[:index1] + x2[index1:index2] + x1[index2:]\n",
    "    y2 = x2[:index1] + x1[index1:index2] + x2[index2:]\n",
    "    \n",
    "    return y1, y2\n",
    "\n",
    "# Uniform Crossover\n",
    "def uniform_crossover(x1, x2):\n",
    "    alpha = list(np.random.randint(2, size=len(x1)))\n",
    "    \n",
    "    y1 = list(np.multiply(alpha, x1) + (1-np.array(alpha)) * np.array(x2))\n",
    "    y2 = list(np.multiply(alpha, x2) + (1-np.array(alpha)) * np.array(x1))\n",
    "    \n",
    "    return y1, y2\n",
    "\n",
    "def CrossOver(x1, x2):\n",
    "    \n",
    "    pSinglePoint = 0.1\n",
    "    pDoublePoint = 0.2\n",
    "    pUniform = 1-pSinglePoint-pDoublePoint\n",
    "    \n",
    "    METHOD = rouletteWheelSelection([pSinglePoint, pDoublePoint, pUniform])\n",
    "    \n",
    "    if METHOD == 0:\n",
    "        y1, y2 = singlePoint_crossover(x1, x2)\n",
    "    elif METHOD == 1:\n",
    "        y1, y2 = doublePoint_crossover(x1, x2)\n",
    "    elif METHOD == 2:\n",
    "        y1, y2 = uniform_crossover(x1, x2)\n",
    "    \n",
    "    return y1, y2"
   ]
  },
  {
   "cell_type": "markdown",
   "id": "cb76b70d",
   "metadata": {},
   "source": [
    "### Mutation"
   ]
  },
  {
   "cell_type": "code",
   "execution_count": null,
   "id": "3b995db5",
   "metadata": {},
   "outputs": [],
   "source": [
    "def Mutation(x):\n",
    "    index = int(np.random.randint(0, len(x), size=1))\n",
    "    \n",
    "    y = x.copy()\n",
    "    \n",
    "    y[index] = 1-x[index]\n",
    "    \n",
    "    return y"
   ]
  },
  {
   "cell_type": "markdown",
   "id": "5fe59522",
   "metadata": {},
   "source": [
    "### GA Algorithm"
   ]
  },
  {
   "cell_type": "code",
   "execution_count": null,
   "id": "7c6f220a",
   "metadata": {},
   "outputs": [],
   "source": [
    "### Problem Parameters Definition ###\n",
    "\n",
    "model = hubLocation()\n",
    "\n",
    "nVar = model['M']       # Number of decision variables\n",
    "\n",
    "global NFE\n",
    "NFE = 0\n",
    "\n",
    "### GA Parameters ###\n",
    "maxIt = 75     # Maximum numner of iterations\n",
    "nPop = 20       # Population size \n",
    "\n",
    "pc = 0.8                   # Crossover percentage\n",
    "nc = 2*round(pc*nPop/2)    # Number of offsprings (parents)\n",
    "\n",
    "pm = 0.3                   # Mutation percentage\n",
    "nm = round(pm*nPop)        # Number of mutants2 = unifrnd(0,2 = unifrnd(0,\n",
    "\n",
    "### Initialization ###\n",
    "pop, costs = [], []\n",
    "\n",
    "for i in range(0, nPop):\n",
    "    pop.append(createRandomSolution(model))\n",
    "    costs.append(myCost(pop[i], model))\n",
    "\n",
    "# Sort the population and costs\n",
    "pop, costs = pop_sort(pop, costs)\n",
    "\n",
    "#  Store the best solution\n",
    "bestSolution = [pop[0]]\n",
    "\n",
    "# Array to hold best cost values\n",
    "bestCosts = [costs[0]]\n",
    "\n",
    "# Store the NFE into the array\n",
    "nfe = [NFE]\n",
    "\n",
    "### Main Loop ###\n",
    "for it in range(1, maxIt):\n",
    "    \n",
    "    # Crossover\n",
    "    popc, popc_cost = [], []\n",
    "    for k in range(1, int(nc/2)):\n",
    "        \n",
    "        # Select parent indices\n",
    "        rand1 = int(np.random.randint(nPop, size=1))\n",
    "        rand2 = int(np.random.randint(nPop, size=1))\n",
    "        \n",
    "        # Select parents\n",
    "        p1 = pop[rand1]\n",
    "        p2 = pop[rand2]\n",
    "        \n",
    "        # Apply crossover\n",
    "#         y1, y2 = singlePoint_crossover(p1, p2)\n",
    "#         y1, y2 = doublePoint_crossover(p1, p2)\n",
    "#         y1, y2 = uniform_crossover(p1, p2)\n",
    "\n",
    "        y1, y2 = CrossOver(p1, p2)\n",
    "        \n",
    "        # Store the offspring after crossover\n",
    "        popc.append(y1)\n",
    "        popc.append(y2)\n",
    "        \n",
    "        # Evaluate the offspring\n",
    "        popc_cost.append(myCost(y1, model))\n",
    "        popc_cost.append(myCost(y2, model))\n",
    "        \n",
    "    # Mutation\n",
    "    popm, popm_cost = [], []\n",
    "    for k in range(1, nm):\n",
    "        \n",
    "        # Select parent\n",
    "        rand = int(np.random.randint(nPop, size=1))\n",
    "        p = pop[rand]\n",
    "        \n",
    "        # Apply Mutation\n",
    "        popm.append(Mutation(p))\n",
    "        \n",
    "        # Evaluate the offspring\n",
    "        popm_cost.append(myCost(popm[-1], model))\n",
    "        \n",
    "    # Create merged population\n",
    "    pop = pop + popm + popc\n",
    "    costs = costs + popm_cost + popc_cost\n",
    "    \n",
    "    # sort the whole population\n",
    "    pop, costs = pop_sort(pop, costs)\n",
    "    \n",
    "    # Truncation\n",
    "    pop = pop[:nPop]\n",
    "    costs = costs[:nPop]\n",
    "    \n",
    "    # Store the best solution\n",
    "    bestSolution.append(pop[0])\n",
    "    \n",
    "    # Store the best cost\n",
    "    bestCosts.append(costs[0])\n",
    "    \n",
    "    # Append NFE to the array\n",
    "    nfe.append(NFE)\n",
    "    \n",
    "#     if bestCosts[-2] == 0:\n",
    "#         break\n",
    "        \n",
    "    print(f'Iteration {it} : NFE = {nfe[-1]}, Best Cost = {bestCosts[it]}')"
   ]
  },
  {
   "cell_type": "markdown",
   "id": "727b1498",
   "metadata": {},
   "source": [
    "### Results"
   ]
  },
  {
   "cell_type": "code",
   "execution_count": null,
   "id": "160002d1",
   "metadata": {},
   "outputs": [],
   "source": [
    "# Plot the result\n",
    "plt.plot(bestCosts, linewidth = 3)\n",
    "plt.xlabel('NFE')\n",
    "plt.ylabel('Costs')"
   ]
  },
  {
   "cell_type": "code",
   "execution_count": null,
   "id": "6d60f431",
   "metadata": {},
   "outputs": [],
   "source": []
  },
  {
   "cell_type": "code",
   "execution_count": null,
   "id": "fd55e04c",
   "metadata": {},
   "outputs": [],
   "source": []
  }
 ],
 "metadata": {
  "kernelspec": {
   "display_name": "Python 3 (ipykernel)",
   "language": "python",
   "name": "python3"
  },
  "language_info": {
   "codemirror_mode": {
    "name": "ipython",
    "version": 3
   },
   "file_extension": ".py",
   "mimetype": "text/x-python",
   "name": "python",
   "nbconvert_exporter": "python",
   "pygments_lexer": "ipython3",
   "version": "3.10.9"
  }
 },
 "nbformat": 4,
 "nbformat_minor": 5
}
