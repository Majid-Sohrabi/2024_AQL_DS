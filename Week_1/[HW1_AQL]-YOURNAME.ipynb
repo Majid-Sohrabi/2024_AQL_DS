{
 "cells": [
  {
   "cell_type": "markdown",
   "id": "1ef019d6",
   "metadata": {},
   "source": [
    "# Exercise\n",
    "\n",
    "Write a python program to rotate the elements of an array with an arbitrary direction (left or right) and arbitrary number or elements.\n",
    "\n",
    "1. The user need to insert the term ('left' or 'right') which shows the direction of the rotation.\n",
    "2. The user need to insert the number d which specifies how many elements need to be rotated.\n",
    "\n",
    "Example:\n",
    "\n",
    "```\n",
    "List (array) = [1, 2, 3, 4, 5, 6, 7]\n",
    "\n",
    "if left shift by 2 elements:\n",
    "\n",
    "Output = [3, 4, 5, 6, 7, 1, 2]\n",
    "```"
   ]
  },
  {
   "cell_type": "code",
   "execution_count": 3,
   "id": "dfe8061a",
   "metadata": {},
   "outputs": [
    {
     "name": "stdout",
     "output_type": "stream",
     "text": [
      "Please choose direction: left or right ?left\n",
      "Please insert the number of elements: 2\n",
      "[3, 4, 5, 6, 7, 1, 2]\n"
     ]
    }
   ],
   "source": [
    "list_ = [1, 2, 3, 4, 5, 6, 7]\n",
    "direction = input(\"Please choose direction: left or right ?\" )\n",
    "num = int(input(\"Please insert the number of elements: \"))\n",
    "\n",
    "if direction == 'left':\n",
    "    print(list_[num:] + list_[:num])\n",
    "else: print (list_[-num:] + list_ [:-num])"
   ]
  },
  {
   "cell_type": "markdown",
   "id": "bb230e87",
   "metadata": {},
   "source": [
    "# HW1 - Applied Quantitative Logistics\n",
    "\n",
    "Instruction for submission:\n",
    "\n",
    "- Please submit your solutions in (.ipynb) format to my email (msohrabi@hse.ru).\n",
    "\n",
    "- Deadline: **January 26, 2024, 11:59 pm.**\n",
    "\n",
    "- The subject of the email and file name: **[HW1_AQL]-YOUR_NAME**"
   ]
  },
  {
   "cell_type": "markdown",
   "id": "dedeb83e",
   "metadata": {},
   "source": [
    "# Task 1:\n",
    "\n",
    "Let's solve a programming task, consider a 2D array, and you want to implement a program that not only shift to right or left, but also, it can shift up or down.\n",
    "\n",
    "In this scenario, the user need to insert four different arguments:\n",
    "\n",
    "1. Row shift or column shift? ('row' or 'column')\n",
    "\n",
    "2. Which direction? ('left' or 'right')\n",
    "\n",
    "3. Index of the column or row? (an integer index)\n",
    "\n",
    "4. How many elements need to be shifted? (integer number)\n",
    "\n",
    "Finally, print the modified 2D array as an output."
   ]
  },
  {
   "cell_type": "code",
   "execution_count": null,
   "id": "671084b5",
   "metadata": {},
   "outputs": [],
   "source": []
  },
  {
   "cell_type": "code",
   "execution_count": null,
   "id": "e339e527",
   "metadata": {},
   "outputs": [],
   "source": []
  },
  {
   "cell_type": "code",
   "execution_count": null,
   "id": "cdb682e0",
   "metadata": {},
   "outputs": [],
   "source": []
  },
  {
   "cell_type": "markdown",
   "id": "4891b146",
   "metadata": {},
   "source": [
    "## Task 2: Bin Packing Problem\n",
    "\n",
    "The bin packing problem is an optimization problem, in which items of different sizes must be packed into a finite number of bins or containers, each of a fixed given capacity, in a way that minimizes the number of bins used. The problem has many applications, such as filling up containers, loading trucks with weight capacity constraints, creating file backups in media, and ... [Wikipedia](https://en.wikipedia.org/wiki/Bin_packing_problem)\n",
    "\n",
    "We already discussed the idea during our seminar. Write the solution for this problem for any arbitrary object list and maximum capacity (for bins).\n",
    "\n",
    "Example:\n",
    "```\n",
    "weights = [2, 5, 4, 7, 1, 3, 8]\n",
    "max_capacity = 10\n",
    "\n",
    "Output: Minimum number of bins required: 4\n",
    "```"
   ]
  },
  {
   "cell_type": "code",
   "execution_count": null,
   "id": "c3ce98db",
   "metadata": {},
   "outputs": [],
   "source": []
  },
  {
   "cell_type": "code",
   "execution_count": null,
   "id": "fb9c228c",
   "metadata": {},
   "outputs": [],
   "source": []
  },
  {
   "cell_type": "code",
   "execution_count": null,
   "id": "7c8245cd",
   "metadata": {},
   "outputs": [],
   "source": []
  }
 ],
 "metadata": {
  "kernelspec": {
   "display_name": "Python 3 (ipykernel)",
   "language": "python",
   "name": "python3"
  },
  "language_info": {
   "codemirror_mode": {
    "name": "ipython",
    "version": 3
   },
   "file_extension": ".py",
   "mimetype": "text/x-python",
   "name": "python",
   "nbconvert_exporter": "python",
   "pygments_lexer": "ipython3",
   "version": "3.10.9"
  }
 },
 "nbformat": 4,
 "nbformat_minor": 5
}
