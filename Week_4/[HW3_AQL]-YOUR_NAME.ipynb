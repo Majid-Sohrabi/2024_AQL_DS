{
 "cells": [
  {
   "cell_type": "markdown",
   "id": "0ffa17f4",
   "metadata": {},
   "source": [
    "# HW3 - Applied Quantitative Logistics\n",
    "\n",
    "Implement 4 Mutation methods which we discussed during the seminar for TSP which is permutation problem (for GA algorithm):\n",
    "\n",
    "1) Swap Mutation\n",
    "\n",
    "2) Big Swap Mutation\n",
    "\n",
    "3) Reversion Mutation\n",
    "\n",
    "4) Insertion (Removing and inserting in a new place)\n",
    "\n",
    "5) Create a function for selecting each mutation randomly by the roulette wheel approach\n",
    "\n",
    "6) Use a Genetic Algorithm to solve this problem (For simplicity just put the probability of crossover equal to 0 - which means we don't use crossover)\n",
    "\n",
    "7) Print all best costs with iterations and plot the result based on iteration (Not NFE)\n",
    "\n",
    "8) Plot the result of SA and GA on one plot to compair their minimization trend.\n",
    "\n",
    "9) You can generate **more objects** with different range weights, values, maximum weight (different than seminar data). Then compair these two methods on your new generated dataset. (**Bonus point**)\n",
    "\n",
    "Instruction for submission:\n",
    "\n",
    "- Please submit your solutions in (.ipynb) format to my email (msohrabi@hse.ru).\n",
    "\n",
    "- Deadline: **February 21, 2023, 11:59 pm.**\n",
    "\n",
    "- The subject of the email and file name: **[HW3_AQL]-YOUR_NAME**"
   ]
  },
  {
   "cell_type": "code",
   "execution_count": null,
   "id": "d06060ea",
   "metadata": {},
   "outputs": [],
   "source": [
    "# Use the problem and SA algorithm from the seminar\n",
    "# Then also solve the problem with GA\n",
    "# Plot the both minimization curve on the same plot\n",
    "# set the xaxis and y axis and legend for the plot"
   ]
  },
  {
   "cell_type": "code",
   "execution_count": null,
   "id": "43995e79",
   "metadata": {},
   "outputs": [],
   "source": [
    "# You can copy code from seminar for problem and SA"
   ]
  },
  {
   "cell_type": "code",
   "execution_count": null,
   "id": "b4d0f809",
   "metadata": {},
   "outputs": [],
   "source": []
  },
  {
   "cell_type": "code",
   "execution_count": null,
   "id": "fc4a49d7",
   "metadata": {},
   "outputs": [],
   "source": []
  },
  {
   "cell_type": "markdown",
   "id": "b3b5b0da",
   "metadata": {},
   "source": [
    "### Mutation"
   ]
  },
  {
   "cell_type": "code",
   "execution_count": null,
   "id": "3960e243",
   "metadata": {},
   "outputs": [],
   "source": []
  },
  {
   "cell_type": "code",
   "execution_count": null,
   "id": "82d69737",
   "metadata": {},
   "outputs": [],
   "source": []
  },
  {
   "cell_type": "markdown",
   "id": "69c5ba7b",
   "metadata": {},
   "source": [
    "## Genetic Algorithm (GA)"
   ]
  },
  {
   "cell_type": "code",
   "execution_count": null,
   "id": "28a2cdec",
   "metadata": {},
   "outputs": [],
   "source": []
  },
  {
   "cell_type": "code",
   "execution_count": null,
   "id": "444fbe02",
   "metadata": {},
   "outputs": [],
   "source": []
  },
  {
   "cell_type": "markdown",
   "id": "c0e1262c",
   "metadata": {},
   "source": [
    "### Results"
   ]
  },
  {
   "cell_type": "code",
   "execution_count": null,
   "id": "e1ea0c48",
   "metadata": {},
   "outputs": [],
   "source": []
  },
  {
   "cell_type": "code",
   "execution_count": null,
   "id": "bfbcca39",
   "metadata": {},
   "outputs": [],
   "source": []
  }
 ],
 "metadata": {
  "kernelspec": {
   "display_name": "Python 3 (ipykernel)",
   "language": "python",
   "name": "python3"
  },
  "language_info": {
   "codemirror_mode": {
    "name": "ipython",
    "version": 3
   },
   "file_extension": ".py",
   "mimetype": "text/x-python",
   "name": "python",
   "nbconvert_exporter": "python",
   "pygments_lexer": "ipython3",
   "version": "3.10.9"
  }
 },
 "nbformat": 4,
 "nbformat_minor": 5
}
