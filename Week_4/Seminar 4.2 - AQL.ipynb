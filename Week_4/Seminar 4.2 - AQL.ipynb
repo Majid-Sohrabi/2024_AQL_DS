{
 "cells": [
  {
   "cell_type": "markdown",
   "id": "7d5388ab",
   "metadata": {},
   "source": [
    "# Semianr 4.2 - Applied Quantitative Logistics"
   ]
  },
  {
   "cell_type": "code",
   "execution_count": null,
   "id": "fd8d2662",
   "metadata": {},
   "outputs": [],
   "source": [
    "import numpy as np\n",
    "import math\n",
    "import matplotlib.pyplot as plt\n",
    "import random"
   ]
  },
  {
   "cell_type": "markdown",
   "id": "15fe3b2b",
   "metadata": {},
   "source": [
    "## Traveling Salesman Problem"
   ]
  },
  {
   "cell_type": "code",
   "execution_count": null,
   "id": "3d0f2568",
   "metadata": {},
   "outputs": [],
   "source": [
    "# list(np.random.permutation(15))"
   ]
  },
  {
   "cell_type": "code",
   "execution_count": null,
   "id": "617ac8b1",
   "metadata": {},
   "outputs": [],
   "source": [
    "# list(np.random.randint(0, 100, 15))"
   ]
  },
  {
   "cell_type": "code",
   "execution_count": null,
   "id": "e6e1f254",
   "metadata": {},
   "outputs": [],
   "source": [
    "# list(np.random.randint(0, 100, 15))"
   ]
  },
  {
   "cell_type": "code",
   "execution_count": null,
   "id": "e12d2b40",
   "metadata": {},
   "outputs": [],
   "source": [
    "def tsp():\n",
    "    \n",
    "    x = [24, 74, 83, 53, 7, 96, 10, 33, 53, 92, 13, 35, 97, 90, 97]\n",
    "    y = [77, 91, 60, 4, 93, 18, 18, 20, 89, 79, 62, 32, 65, 11, 62]\n",
    "    \n",
    "    n = len(x)\n",
    "    \n",
    "    d = np.zeros([n, n])\n",
    "    \n",
    "    for i in range(0, n-1):\n",
    "        for j in range(i+1, n):\n",
    "            d[i][j] = math.sqrt((x[i] - x[j])**2 + (y[i]-y[j])**2)\n",
    "            d[j][i] = d[i][j]\n",
    "            \n",
    "    xmin = 0\n",
    "    xmax = 100\n",
    "    \n",
    "    ymin = 0\n",
    "    ymax = 100\n",
    "    \n",
    "    model = {'n': n,\n",
    "            'x': x,\n",
    "            'y': y,\n",
    "            'd': d,\n",
    "            'xmin': xmin,\n",
    "            'xmax': xmax,\n",
    "            'ymin': ymin,\n",
    "            'ymax': ymax}\n",
    "        \n",
    "    return model"
   ]
  },
  {
   "cell_type": "code",
   "execution_count": null,
   "id": "feac6a88",
   "metadata": {},
   "outputs": [],
   "source": [
    "model = tsp()"
   ]
  },
  {
   "cell_type": "markdown",
   "id": "77b72fbb",
   "metadata": {},
   "source": [
    "### Create Random Solution"
   ]
  },
  {
   "cell_type": "code",
   "execution_count": null,
   "id": "69b83ffe",
   "metadata": {},
   "outputs": [],
   "source": [
    "def createRandomSolution(model):\n",
    "    n = model['n']\n",
    "    sol = list(np.random.permutation(n))\n",
    "    return sol"
   ]
  },
  {
   "cell_type": "code",
   "execution_count": null,
   "id": "03035017",
   "metadata": {},
   "outputs": [],
   "source": [
    "# sol = createRandomSolution(model)\n",
    "# sol"
   ]
  },
  {
   "cell_type": "markdown",
   "id": "ba382f8b",
   "metadata": {},
   "source": [
    "### Calculating the Length - Cost Function"
   ]
  },
  {
   "cell_type": "code",
   "execution_count": null,
   "id": "ff004008",
   "metadata": {},
   "outputs": [],
   "source": [
    "def TourLength(tour, model):\n",
    "    n = model['n']\n",
    "    \n",
    "    tour.append(tour[0])\n",
    "    \n",
    "    L = 0\n",
    "    \n",
    "    for k in range(0, n):\n",
    "        i = tour[k]\n",
    "        j = tour[k+1]\n",
    "        \n",
    "        L = L + model['d'][i][j]\n",
    "        \n",
    "    return L"
   ]
  },
  {
   "cell_type": "markdown",
   "id": "7d211349",
   "metadata": {},
   "source": [
    "### Roulette Wheele Selection"
   ]
  },
  {
   "cell_type": "code",
   "execution_count": null,
   "id": "bede57fc",
   "metadata": {},
   "outputs": [],
   "source": [
    "def rouletteWheelSelection(p):\n",
    "    r = random.random()\n",
    "    \n",
    "    c = np.cumsum(p)\n",
    "    \n",
    "    indexes = [\n",
    "        index for index in range(len(c))\n",
    "        if c[index] > r\n",
    "    ]\n",
    "    \n",
    "    return indexes[0]"
   ]
  },
  {
   "cell_type": "markdown",
   "id": "52f1e194",
   "metadata": {},
   "source": [
    "### Mutation"
   ]
  },
  {
   "cell_type": "code",
   "execution_count": null,
   "id": "3a273474",
   "metadata": {},
   "outputs": [],
   "source": [
    "def ApplySwap(tour1):\n",
    "    \n",
    "    n = model['n']\n",
    "    I = random.sample(range(0, n-1), 2)\n",
    "    \n",
    "    i1 = I[0]\n",
    "    i2 = I[1]\n",
    "    \n",
    "    tour2 = tour1.copy()\n",
    "    tour2[i1] = tour1[i2]\n",
    "    tour2[i2] = tour1[i1]\n",
    "    \n",
    "    return tour2\n",
    "\n",
    "# ------------------------------------------------\n",
    "def ApplyReversion(tour1):\n",
    "    \n",
    "    n = model['n']\n",
    "    I = random.sample(range(0, n-1), 2)\n",
    "    \n",
    "    i1 = min(I)\n",
    "    i2 = max(I)\n",
    "\n",
    "    tour2 = tour1.copy()\n",
    "    \n",
    "    tour2[i1:i2] = tour2[i1:i2][::-1]\n",
    "    \n",
    "    return tour2\n",
    "\n",
    "# ------------------------------------------------\n",
    "def CreateNeighbor(tour1):\n",
    "    pSwap = 0.3\n",
    "    pReversion = 0.7\n",
    "    \n",
    "    p = [pSwap, pReversion]\n",
    "    \n",
    "    METHOD = rouletteWheelSelection(p)\n",
    "    \n",
    "    if METHOD == 0:\n",
    "        tour2 = ApplySwap(tour1)        # Swap\n",
    "        \n",
    "    elif METHOD == 1:\n",
    "        tour2 = ApplyReversion(tour1)   # Reversion\n",
    "        \n",
    "    return tour2"
   ]
  },
  {
   "cell_type": "code",
   "execution_count": null,
   "id": "be1191f7",
   "metadata": {},
   "outputs": [],
   "source": [
    "# tour = [1, 2, 3, 4, 5, 6, 7, 8, 9, 10, 11, 12, 13, 14, 15]\n",
    "# ApplySwap(tour)"
   ]
  },
  {
   "cell_type": "code",
   "execution_count": null,
   "id": "c2f693aa",
   "metadata": {},
   "outputs": [],
   "source": [
    "# tour = [1, 2, 3, 4, 5, 6, 7, 8, 9, 10, 11, 12, 13, 14, 15]\n",
    "# ApplyReversion(tour)"
   ]
  },
  {
   "cell_type": "code",
   "execution_count": null,
   "id": "85cec5a9",
   "metadata": {},
   "outputs": [],
   "source": [
    "# tour = [1, 2, 3, 4, 5, 6, 7, 8, 9, 10, 11, 12, 13, 14, 15]\n",
    "# ApplyInsertion(tour)"
   ]
  },
  {
   "cell_type": "markdown",
   "id": "173d1288",
   "metadata": {},
   "source": [
    "## Simmulated Annealing (SA)"
   ]
  },
  {
   "cell_type": "code",
   "execution_count": null,
   "id": "7ede52b7",
   "metadata": {
    "scrolled": true
   },
   "outputs": [],
   "source": [
    "### Problem Definition --------------------------\n",
    "model = tsp()   # Generate model\n",
    "\n",
    "### SA Parameters --------------------------\n",
    "maxIt = 1000    # maximum number of iteration\n",
    "\n",
    "T0 = 100        # initial temprature\n",
    "alpha = 0.99    # temprature reduction rate\n",
    "\n",
    "### Initialization --------------------------\n",
    "sol = createRandomSolution(model)  # Generate a random solution\n",
    "cost = TourLength(sol, model)      # Evaluating the tour\n",
    "\n",
    "BestSol = sol\n",
    "BestCost = cost\n",
    "\n",
    "BestCost_list= np.zeros(maxIt-1)     # Array to Hold Best Values\n",
    "\n",
    "T = T0   # Initialize Temp.\n",
    "\n",
    "### SA Main Loop --------------------------\n",
    "for it in range(1, maxIt):\n",
    "    newsol = CreateNeighbor(sol)\n",
    "    newcost = TourLength(newsol, model)\n",
    "    \n",
    "    if newcost <= cost:      # If new NEWSOL is better than SOL\n",
    "        sol = newsol\n",
    "        cost = newcost\n",
    "    else:                    # If NEWSOL is NOT better than SOL\n",
    "        DELTA = newcost - cost\n",
    "        P = math.exp(-DELTA/T)\n",
    "        r = np.random.random()\n",
    "        if P>=r:\n",
    "            sol = newsol\n",
    "            cost = newcost\n",
    "            \n",
    "    if cost <= BestCost:\n",
    "        BestSol = sol\n",
    "        BetCost = cost\n",
    "        \n",
    "    BestCost_list[it-1] = TourLength(BestSol, model)\n",
    "            \n",
    "    # Display Iteration Information\n",
    "    print(f'Iteration: {it}, Best Cost = {BestCost_list[it-1]}')\n",
    "    \n",
    "    # Update Temp.\n",
    "    T = alpha*T"
   ]
  },
  {
   "cell_type": "markdown",
   "id": "39718bb9",
   "metadata": {},
   "source": [
    "### Results"
   ]
  },
  {
   "cell_type": "code",
   "execution_count": null,
   "id": "aab6694c",
   "metadata": {},
   "outputs": [],
   "source": [
    "# Plot the result\n",
    "plt.plot(BestCost_list, linewidth = 2)\n",
    "plt.xlabel('Iteration')\n",
    "plt.ylabel('Best Cost')"
   ]
  },
  {
   "cell_type": "code",
   "execution_count": null,
   "id": "42ef252e",
   "metadata": {},
   "outputs": [],
   "source": []
  }
 ],
 "metadata": {
  "kernelspec": {
   "display_name": "Python 3 (ipykernel)",
   "language": "python",
   "name": "python3"
  },
  "language_info": {
   "codemirror_mode": {
    "name": "ipython",
    "version": 3
   },
   "file_extension": ".py",
   "mimetype": "text/x-python",
   "name": "python",
   "nbconvert_exporter": "python",
   "pygments_lexer": "ipython3",
   "version": "3.10.9"
  }
 },
 "nbformat": 4,
 "nbformat_minor": 5
}
