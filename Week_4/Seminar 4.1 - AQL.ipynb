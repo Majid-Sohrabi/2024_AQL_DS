{
 "cells": [
  {
   "cell_type": "markdown",
   "id": "7d5388ab",
   "metadata": {},
   "source": [
    "# Semianr 4.1 - Applied Quantitative Logistics"
   ]
  },
  {
   "cell_type": "code",
   "execution_count": null,
   "id": "fd8d2662",
   "metadata": {},
   "outputs": [],
   "source": [
    "import numpy as np\n",
    "import random\n",
    "import matplotlib.pyplot as plt"
   ]
  },
  {
   "cell_type": "markdown",
   "id": "15fe3b2b",
   "metadata": {},
   "source": [
    "## Binary Knapsak Problem\n",
    "\n",
    "The Knapsack problem can be formulated as follows:\n",
    "\n",
    "Given a set of items, each with a weight and a value, determine the number of each item to include in a collection so that the total weight is less than or equal to a given limit and the total value is maximized.\n",
    "\n",
    "Let:\n",
    "- `n` be the number of items\n",
    "- `weight[i]` be the weight of item `i`\n",
    "- `value[i]` be the value of item `i`\n",
    "- `W` be the maximum weight capacity of the knapsack\n",
    "\n",
    "The goal is to maximize the sum of the values of the items in the knapsack, subject to the constraint that the sum of the weights of the items cannot exceed `W`.\n",
    "\n",
    "\n",
    "\n",
    "**Maximize:**\n",
    "\n",
    "$$\n",
    "z = \\sum_{i=1}^{n} \\text{value}[i] \\times x[i]\n",
    "$$\n",
    "\n",
    "Subject to the constraint:\n",
    "\n",
    "$$ \n",
    "\\sum_{i=1}^{n} \\text{weight}[i] \\times x[i] \\leq W \n",
    "$$\n",
    "\n",
    "and\n",
    "\n",
    "$$\n",
    "x_i \\in \\{0, 1\\}\n",
    "$$"
   ]
  },
  {
   "cell_type": "code",
   "execution_count": null,
   "id": "6dd0cc6b",
   "metadata": {},
   "outputs": [],
   "source": [
    "# Let's consider 50 objects\n",
    "\n",
    "# Values\n",
    "np.random.seed(10)\n",
    "v = list(np.random.randint(10, 90, size=50))\n",
    "\n",
    "# Weights\n",
    "np.random.seed(12)\n",
    "w = list(np.random.randint(100, 900, size=50))\n",
    "\n",
    "n = len(v)    # Number of Objects\n",
    "W = 10000     # Maximum Weights"
   ]
  },
  {
   "cell_type": "markdown",
   "id": "9b696668",
   "metadata": {},
   "source": [
    "### Creating Random Solution"
   ]
  },
  {
   "cell_type": "code",
   "execution_count": null,
   "id": "408e284e",
   "metadata": {},
   "outputs": [],
   "source": [
    "def GeneateSolution(n):\n",
    "    \n",
    "    x = list(np.random.randint(0, 2, size=n))\n",
    "    \n",
    "    return x"
   ]
  },
  {
   "cell_type": "markdown",
   "id": "0a7419ef",
   "metadata": {},
   "source": [
    "### Cost Function"
   ]
  },
  {
   "cell_type": "code",
   "execution_count": null,
   "id": "02e10731",
   "metadata": {},
   "outputs": [],
   "source": [
    "def KnapsakCost(x, v, w, W):\n",
    "    \n",
    "    global NFE\n",
    "    if NFE == None:\n",
    "        NFE=0\n",
    "    \n",
    "    NFE += 1\n",
    "    \n",
    "    # Store some information\n",
    "    GanedValue = np.dot(v, x)\n",
    "    LostValue = np.dot(v, (1-np.array(x)))\n",
    "    GanedWeight = np.dot(w, x)\n",
    "    LostWeight = np.dot(w, (1-np.array(x)))\n",
    "    \n",
    "    violation = max(GanedWeight/W-1, 0)\n",
    "    \n",
    "    alpha = 10000\n",
    "    \n",
    "    z = LostValue + alpha*violation\n",
    "    \n",
    "    isFeasible = violation == 0\n",
    "    \n",
    "    sol = {\"GanedValue\": GanedValue,\n",
    "           \"LostValue\": LostValue,\n",
    "           \"GanedWeight\": GanedWeight,\n",
    "           \"LostWeight\": LostWeight,\n",
    "           \"isFeasible\": isFeasible\n",
    "    }\n",
    "    \n",
    "    return z, sol"
   ]
  },
  {
   "cell_type": "markdown",
   "id": "429e48d8",
   "metadata": {},
   "source": [
    "### Now We Use All Functions From GA Binary"
   ]
  },
  {
   "cell_type": "code",
   "execution_count": null,
   "id": "ad11de57",
   "metadata": {},
   "outputs": [],
   "source": [
    "# Sort the population and cost (based on the cost)\n",
    "def pop_sort(p, c, s):\n",
    "    li = []\n",
    "    for i in range(len(c)):\n",
    "        li.append([c[i],i])\n",
    "        \n",
    "    li.sort()\n",
    "    sort_index = []\n",
    "    \n",
    "    for x in li:\n",
    "        sort_index.append(x[1])\n",
    "    \n",
    "    positions, cost, sol = [], [], []\n",
    "    for i in sort_index:\n",
    "        positions.append(p[i])\n",
    "        cost.append(c[i])\n",
    "        sol.append(s[i])\n",
    "        \n",
    "    return positions, cost, sol"
   ]
  },
  {
   "cell_type": "markdown",
   "id": "7d211349",
   "metadata": {},
   "source": [
    "### Roullete Wheele Selection"
   ]
  },
  {
   "cell_type": "code",
   "execution_count": null,
   "id": "de1281e5",
   "metadata": {},
   "outputs": [],
   "source": [
    "def rouletteWheelSelection(p):\n",
    "    r = random.random()\n",
    "    \n",
    "    c = np.cumsum(p)\n",
    "    \n",
    "    indexes = [\n",
    "    index for index in range(len(c))\n",
    "    if c[index] > r\n",
    "    ]\n",
    "    \n",
    "    return indexes[0]"
   ]
  },
  {
   "cell_type": "markdown",
   "id": "2d36dd71",
   "metadata": {},
   "source": [
    "### CrossOver"
   ]
  },
  {
   "cell_type": "code",
   "execution_count": null,
   "id": "bf7b1717",
   "metadata": {},
   "outputs": [],
   "source": [
    "# Uniform Crossover is better than double point crossover better than single point crossover\n",
    "\n",
    "# Single point crossover\n",
    "def singlePoint_crossover(x1, x2):\n",
    "    index = int(np.random.randint(1, len(x1)-1, size=1))\n",
    "    \n",
    "    y1 = x1[:index] + x2[index:]\n",
    "    y2 = x2[:index] + x1[index:]\n",
    "    \n",
    "    return y1, y2\n",
    "\n",
    "# Double Point Crossover\n",
    "def doublePoint_crossover(x1, x2):\n",
    "    ind = random.sample(range(1, len(x1)-1), 2)\n",
    "    \n",
    "    index1 = min(ind)\n",
    "    index2 = max(ind)\n",
    "    \n",
    "    # Another way is to generate sequence from, 1 to len(x1)-1 then shuffle it\n",
    "    # Then select first two elements (it won't be the same at all) --> my_ind = list(range(1, len(x1)-1))\n",
    "    # random.shuffle(my_list)\n",
    "    y1 = x1[:index1] + x2[index1:index2] + x1[index2:]\n",
    "    y2 = x2[:index1] + x1[index1:index2] + x2[index2:]\n",
    "    \n",
    "    return y1, y2\n",
    "\n",
    "# Uniform Crossover\n",
    "def uniform_crossover(x1, x2):\n",
    "    alpha = list(np.random.randint(2, size=len(x1)))\n",
    "    \n",
    "    y1 = list(np.multiply(alpha, x1) + (1-np.array(alpha)) * np.array(x2))\n",
    "    y2 = list(np.multiply(alpha, x2) + (1-np.array(alpha)) * np.array(x1))\n",
    "    \n",
    "    return y1, y2\n",
    "\n",
    "def CrossOver(x1, x2):\n",
    "    \n",
    "    pSinglePoint = 0.1\n",
    "    pDoublePoint = 0.2\n",
    "    pUniform = 1-pSinglePoint-pDoublePoint\n",
    "    \n",
    "    METHOD = rouletteWheelSelection([pSinglePoint, pDoublePoint, pUniform])\n",
    "    \n",
    "    if METHOD == 0:\n",
    "        y1, y2 = singlePoint_crossover(x1, x2)\n",
    "    elif METHOD == 1:\n",
    "        y1, y2 = doublePoint_crossover(x1, x2)\n",
    "    elif METHOD == 2:\n",
    "        y1, y2 = uniform_crossover(x1, x2)\n",
    "    \n",
    "    return y1, y2"
   ]
  },
  {
   "cell_type": "markdown",
   "id": "359ad109",
   "metadata": {},
   "source": [
    "### Mutation"
   ]
  },
  {
   "cell_type": "code",
   "execution_count": null,
   "id": "bf3be9b6",
   "metadata": {},
   "outputs": [],
   "source": [
    "def Mutation(x):\n",
    "    index = int(np.random.randint(0, len(x), size=1))\n",
    "    \n",
    "    y = x.copy()\n",
    "    \n",
    "    y[index] = 1-x[index]\n",
    "    \n",
    "    return y"
   ]
  },
  {
   "cell_type": "code",
   "execution_count": null,
   "id": "212332e7",
   "metadata": {},
   "outputs": [],
   "source": [
    "### Problem Parameters Definition ###\n",
    "nVar = len(v)       # Number of decision variables\n",
    "\n",
    "global NFE\n",
    "NFE = 0\n",
    "\n",
    "### GA Parameters ###\n",
    "maxIt = 100     # Maximum numner of iterations\n",
    "nPop = 20       # Population size \n",
    "\n",
    "pc = 0.8                   # Crossover percentage\n",
    "nc = 2*round(pc*nPop/2)    # Number of offsprings (parents)\n",
    "\n",
    "pm = 0.3                   # Mutation percentage\n",
    "nm = round(pm*nPop)        # Number of mutants2 = unifrnd(0,2 = unifrnd(0,\n",
    "\n",
    "### Initialization ###\n",
    "pop, costs, sol = [], [], []\n",
    "\n",
    "for i in range(0, nPop):\n",
    "    pop.append(GeneateSolution(nVar))\n",
    "#     costs.append(MinOne(pop[i]))\n",
    "    c, s = KnapsakCost(pop[i], v, w, W)\n",
    "    costs.append(c)\n",
    "    sol.append(s)\n",
    "\n",
    "# Sort the population and costs\n",
    "pop, costs, sol = pop_sort(pop, costs, sol)\n",
    "\n",
    "#  Store the best solution\n",
    "bestSolution = [pop[0]]\n",
    "\n",
    "# Array to hold best cost values\n",
    "bestCosts = [costs[0]]\n",
    "\n",
    "# Store the NFE into the array\n",
    "nfe = [NFE]\n",
    "\n",
    "### Main Loop ###\n",
    "for it in range(1, maxIt):\n",
    "    \n",
    "    # Crossover\n",
    "    popc, popc_cost = [], []\n",
    "    for k in range(1, int(nc/2)):\n",
    "        \n",
    "        # Select parent indices\n",
    "        rand1 = int(np.random.randint(nPop, size=1))\n",
    "        rand2 = int(np.random.randint(nPop, size=1))\n",
    "        \n",
    "        # Select parents\n",
    "        p1 = pop[rand1]\n",
    "        p2 = pop[rand2]\n",
    "        \n",
    "        # Apply crossover\n",
    "#         y1, y2 = singlePoint_crossover(p1, p2)\n",
    "#         y1, y2 = doublePoint_crossover(p1, p2)\n",
    "#         y1, y2 = uniform_crossover(p1, p2)\n",
    "\n",
    "        y1, y2 = CrossOver(p1, p2)\n",
    "        \n",
    "        # Store the offspring after crossover\n",
    "        popc.append(y1)\n",
    "        popc.append(y2)\n",
    "        \n",
    "        # Evaluate the offspring\n",
    "        c, s = KnapsakCost(y1, v, w, W) # v is values / w is weights / W is total weights\n",
    "        costs.append(c)\n",
    "        sol.append(s)\n",
    "        \n",
    "        c, s = KnapsakCost(y2, v, w, W)\n",
    "        costs.append(c)\n",
    "        sol.append(s)\n",
    "#         popc_cost.append(MinOne(y1))\n",
    "#         popc_cost.append(MinOne(y2))\n",
    "        \n",
    "    # Mutation\n",
    "    popm, popm_cost = [], []\n",
    "    for k in range(1, nm):\n",
    "        \n",
    "        # Select parent\n",
    "        rand = int(np.random.randint(nPop, size=1))\n",
    "        p = pop[rand]\n",
    "        \n",
    "        # Apply Mutation\n",
    "        popm.append(Mutation(p))\n",
    "        \n",
    "        # Evaluate the offspring\n",
    "#         popm_cost.append(MinOne(popm[-1]))\n",
    "        c, s = KnapsakCost(popm[-1], v, w, W)\n",
    "        costs.append(c)\n",
    "        sol.append(s)\n",
    "        \n",
    "    # Create merged population\n",
    "    pop = pop + popm + popc\n",
    "    costs = costs + popm_cost + popc_cost\n",
    "    \n",
    "    # sort the whole population\n",
    "    pop, costs, sol = pop_sort(pop, costs, sol)\n",
    "    \n",
    "    # Truncation\n",
    "    pop = pop[:nPop]\n",
    "    costs = costs[:nPop]\n",
    "    sol = sol[:nPop]\n",
    "    \n",
    "    # Store the best solution\n",
    "    bestSolution.append(pop[0])\n",
    "    \n",
    "    # Store the best cost\n",
    "    bestCosts.append(costs[0])\n",
    "    \n",
    "    # Append NFE to the array\n",
    "    nfe.append(NFE)\n",
    "        \n",
    "    print(f'Iteration {it} : NFE = {nfe[-1]}, Best Cost = {bestCosts[it]}')"
   ]
  },
  {
   "cell_type": "markdown",
   "id": "29287216",
   "metadata": {},
   "source": [
    "### Plot the Result"
   ]
  },
  {
   "cell_type": "code",
   "execution_count": null,
   "id": "6c20d6c7",
   "metadata": {},
   "outputs": [],
   "source": [
    "# Plot the result\n",
    "plt.plot(nfe, bestCosts, linewidth = 3)\n",
    "plt.xlabel('NFE')\n",
    "plt.ylabel('Costs')"
   ]
  },
  {
   "cell_type": "code",
   "execution_count": null,
   "id": "11fc40a6",
   "metadata": {},
   "outputs": [],
   "source": [
    "# Plot the result in logarithm format\n",
    "plt.plot(nfe, np.log(bestCosts), linewidth = 3)\n",
    "plt.xlabel('NFE')\n",
    "plt.ylabel('Costs')"
   ]
  },
  {
   "cell_type": "code",
   "execution_count": null,
   "id": "1755a502",
   "metadata": {
    "scrolled": true
   },
   "outputs": [],
   "source": [
    "bestSolution[0]"
   ]
  },
  {
   "cell_type": "code",
   "execution_count": null,
   "id": "12a6563b",
   "metadata": {},
   "outputs": [],
   "source": [
    "sol[0]"
   ]
  },
  {
   "cell_type": "code",
   "execution_count": null,
   "id": "c97cf93e",
   "metadata": {},
   "outputs": [],
   "source": []
  }
 ],
 "metadata": {
  "kernelspec": {
   "display_name": "Python 3 (ipykernel)",
   "language": "python",
   "name": "python3"
  },
  "language_info": {
   "codemirror_mode": {
    "name": "ipython",
    "version": 3
   },
   "file_extension": ".py",
   "mimetype": "text/x-python",
   "name": "python",
   "nbconvert_exporter": "python",
   "pygments_lexer": "ipython3",
   "version": "3.10.9"
  }
 },
 "nbformat": 4,
 "nbformat_minor": 5
}
